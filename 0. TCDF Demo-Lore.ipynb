{
 "cells": [
  {
   "cell_type": "markdown",
   "metadata": {},
   "source": [
    "# TCDF: Temporal Causal Discovery Framework\n",
    "\n",
    "This notebook shows the functionality of TCDF. \n",
    "\n",
    "See the corresponding paper for more detail: __[\"Causal Discovery with Attention-Based Convolutional Neural Networks\"](https://www.mdpi.com/2504-4990/1/1/19)__."
   ]
  },
  {
   "cell_type": "code",
   "execution_count": 1,
   "metadata": {},
   "outputs": [],
   "source": [
    "%load_ext autoreload\n",
    "%autoreload 2"
   ]
  },
  {
   "cell_type": "code",
   "execution_count": 2,
   "metadata": {},
   "outputs": [],
   "source": [
    "import pickle, torch, json\n",
    "import numpy as np\n",
    "import pandas as pd"
   ]
  },
  {
   "cell_type": "code",
   "execution_count": 3,
   "metadata": {},
   "outputs": [],
   "source": [
    "from runTCDF import runTCDF"
   ]
  },
  {
   "cell_type": "code",
   "execution_count": 4,
   "metadata": {},
   "outputs": [],
   "source": [
    "gem = pd.read_csv('./data/Pancreas_Ms.csv', index_col = 0)"
   ]
  },
  {
   "cell_type": "code",
   "execution_count": 5,
   "metadata": {},
   "outputs": [],
   "source": [
    "#import TF-target pairs\n",
    "with open('../celloracle/TF_targets_pancreas.json', 'r') as fp:\n",
    "    TF_info = json.load(fp)"
   ]
  },
  {
   "cell_type": "code",
   "execution_count": 6,
   "metadata": {
    "tags": []
   },
   "outputs": [
    {
     "name": "stdout",
     "output_type": "stream",
     "text": [
      "Number of genes:  0 [0%]\n",
      "Number of genes: 100 [5%]\n",
      "Number of genes: 200 [11%]\n",
      "Number of genes: 300 [16%]\n",
      "Number of genes: 400 [22%]\n",
      "Number of genes: 500 [27%]\n",
      "Number of genes: 600 [32%]\n",
      "Number of genes: 700 [38%]\n",
      "Number of genes: 800 [43%]\n",
      "Number of genes: 900 [48%]\n",
      "Number of genes: 1000 [54%]\n",
      "Number of genes: 1100 [59%]\n",
      "Number of genes: 1200 [65%]\n",
      "Number of genes: 1300 [70%]\n",
      "Number of genes: 1400 [75%]\n",
      "Number of genes: 1500 [81%]\n",
      "Number of genes: 1600 [86%]\n",
      "Number of genes: 1700 [92%]\n",
      "Number of genes: 1800 [97%]\n"
     ]
    }
   ],
   "source": [
    "links = runTCDF(gem, tf_target_pairs=TF_info, cuda=True, significance=1)"
   ]
  },
  {
   "cell_type": "code",
   "execution_count": 8,
   "metadata": {},
   "outputs": [
    {
     "data": {
      "text/html": [
       "<div>\n",
       "<style scoped>\n",
       "    .dataframe tbody tr th:only-of-type {\n",
       "        vertical-align: middle;\n",
       "    }\n",
       "\n",
       "    .dataframe tbody tr th {\n",
       "        vertical-align: top;\n",
       "    }\n",
       "\n",
       "    .dataframe thead th {\n",
       "        text-align: right;\n",
       "    }\n",
       "</style>\n",
       "<table border=\"1\" class=\"dataframe\">\n",
       "  <thead>\n",
       "    <tr style=\"text-align: right;\">\n",
       "      <th></th>\n",
       "      <th>TF</th>\n",
       "      <th>importance</th>\n",
       "      <th>target</th>\n",
       "    </tr>\n",
       "  </thead>\n",
       "  <tbody>\n",
       "    <tr>\n",
       "      <th>0</th>\n",
       "      <td>E2f1</td>\n",
       "      <td>3.496073</td>\n",
       "      <td>Dnajc9</td>\n",
       "    </tr>\n",
       "    <tr>\n",
       "      <th>1</th>\n",
       "      <td>Nr2f6</td>\n",
       "      <td>2.805882</td>\n",
       "      <td>Dnajc9</td>\n",
       "    </tr>\n",
       "    <tr>\n",
       "      <th>2</th>\n",
       "      <td>Atf3</td>\n",
       "      <td>2.740142</td>\n",
       "      <td>Dnajc9</td>\n",
       "    </tr>\n",
       "    <tr>\n",
       "      <th>3</th>\n",
       "      <td>Npdc1</td>\n",
       "      <td>2.353651</td>\n",
       "      <td>Dnajc9</td>\n",
       "    </tr>\n",
       "    <tr>\n",
       "      <th>4</th>\n",
       "      <td>Pax4</td>\n",
       "      <td>2.045232</td>\n",
       "      <td>Dnajc9</td>\n",
       "    </tr>\n",
       "  </tbody>\n",
       "</table>\n",
       "</div>"
      ],
      "text/plain": [
       "      TF  importance  target\n",
       "0   E2f1    3.496073  Dnajc9\n",
       "1  Nr2f6    2.805882  Dnajc9\n",
       "2   Atf3    2.740142  Dnajc9\n",
       "3  Npdc1    2.353651  Dnajc9\n",
       "4   Pax4    2.045232  Dnajc9"
      ]
     },
     "execution_count": 8,
     "metadata": {},
     "output_type": "execute_result"
    }
   ],
   "source": [
    "links.head()"
   ]
  },
  {
   "cell_type": "code",
   "execution_count": 36,
   "metadata": {},
   "outputs": [],
   "source": [
    "pickle.dump(links, open( \"links.p\", \"wb\" ) )"
   ]
  },
  {
   "cell_type": "code",
   "execution_count": 29,
   "metadata": {},
   "outputs": [
    {
     "data": {
      "text/html": [
       "<div>\n",
       "<style scoped>\n",
       "    .dataframe tbody tr th:only-of-type {\n",
       "        vertical-align: middle;\n",
       "    }\n",
       "\n",
       "    .dataframe tbody tr th {\n",
       "        vertical-align: top;\n",
       "    }\n",
       "\n",
       "    .dataframe thead th {\n",
       "        text-align: right;\n",
       "    }\n",
       "</style>\n",
       "<table border=\"1\" class=\"dataframe\">\n",
       "  <thead>\n",
       "    <tr style=\"text-align: right;\">\n",
       "      <th></th>\n",
       "      <th>TF</th>\n",
       "      <th>importance</th>\n",
       "      <th>target</th>\n",
       "    </tr>\n",
       "  </thead>\n",
       "  <tbody>\n",
       "    <tr>\n",
       "      <th>0</th>\n",
       "      <td>E2f1</td>\n",
       "      <td>3.496073</td>\n",
       "      <td>Dnajc9</td>\n",
       "    </tr>\n",
       "    <tr>\n",
       "      <th>1</th>\n",
       "      <td>Nr2f6</td>\n",
       "      <td>2.805882</td>\n",
       "      <td>Dnajc9</td>\n",
       "    </tr>\n",
       "    <tr>\n",
       "      <th>2</th>\n",
       "      <td>Atf3</td>\n",
       "      <td>2.740142</td>\n",
       "      <td>Dnajc9</td>\n",
       "    </tr>\n",
       "    <tr>\n",
       "      <th>3</th>\n",
       "      <td>Npdc1</td>\n",
       "      <td>2.353651</td>\n",
       "      <td>Dnajc9</td>\n",
       "    </tr>\n",
       "    <tr>\n",
       "      <th>4</th>\n",
       "      <td>Pax4</td>\n",
       "      <td>2.045232</td>\n",
       "      <td>Dnajc9</td>\n",
       "    </tr>\n",
       "    <tr>\n",
       "      <th>5</th>\n",
       "      <td>Fos</td>\n",
       "      <td>0.948898</td>\n",
       "      <td>Dnajc9</td>\n",
       "    </tr>\n",
       "    <tr>\n",
       "      <th>6</th>\n",
       "      <td>Pax6</td>\n",
       "      <td>0.889308</td>\n",
       "      <td>Dnajc9</td>\n",
       "    </tr>\n",
       "    <tr>\n",
       "      <th>7</th>\n",
       "      <td>Fosb</td>\n",
       "      <td>0.426776</td>\n",
       "      <td>Dnajc9</td>\n",
       "    </tr>\n",
       "    <tr>\n",
       "      <th>8</th>\n",
       "      <td>Fev</td>\n",
       "      <td>0.258400</td>\n",
       "      <td>Dnajc9</td>\n",
       "    </tr>\n",
       "    <tr>\n",
       "      <th>0</th>\n",
       "      <td>Vdr</td>\n",
       "      <td>3.064059</td>\n",
       "      <td>Usp9x</td>\n",
       "    </tr>\n",
       "  </tbody>\n",
       "</table>\n",
       "</div>"
      ],
      "text/plain": [
       "      TF  importance  target\n",
       "0   E2f1    3.496073  Dnajc9\n",
       "1  Nr2f6    2.805882  Dnajc9\n",
       "2   Atf3    2.740142  Dnajc9\n",
       "3  Npdc1    2.353651  Dnajc9\n",
       "4   Pax4    2.045232  Dnajc9\n",
       "5    Fos    0.948898  Dnajc9\n",
       "6   Pax6    0.889308  Dnajc9\n",
       "7   Fosb    0.426776  Dnajc9\n",
       "8    Fev    0.258400  Dnajc9\n",
       "0    Vdr    3.064059   Usp9x"
      ]
     },
     "execution_count": 29,
     "metadata": {},
     "output_type": "execute_result"
    }
   ],
   "source": [
    "links[links.importance >0].head(10)"
   ]
  },
  {
   "cell_type": "code",
   "execution_count": 12,
   "metadata": {},
   "outputs": [],
   "source": [
    "import seaborn as sns"
   ]
  },
  {
   "cell_type": "code",
   "execution_count": 34,
   "metadata": {},
   "outputs": [
    {
     "data": {
      "text/plain": [
       "<matplotlib.axes._subplots.AxesSubplot at 0x7fd9b11b5780>"
      ]
     },
     "execution_count": 34,
     "metadata": {},
     "output_type": "execute_result"
    },
    {
     "data": {
      "image/png": "[encoded data removed]",
      "text/plain": [
       "<Figure size 432x288 with 1 Axes>"
      ]
     },
     "metadata": {
      "needs_background": "light"
     },
     "output_type": "display_data"
    }
   ],
   "source": [
    "sns.scatterplot(data=gem, x=\"Pax6\", y=\"Dnajc9\")"
   ]
  },
  {
   "cell_type": "code",
   "execution_count": 35,
   "metadata": {},
   "outputs": [
    {
     "data": {
      "text/plain": [
       "array([[ 1.        , -0.52645275],\n",
       "       [-0.52645275,  1.        ]])"
      ]
     },
     "execution_count": 35,
     "metadata": {},
     "output_type": "execute_result"
    }
   ],
   "source": [
    "np.corrcoef(gem[\"Pax6\"], gem[\"Dnajc9\"])"
   ]
  },
  {
   "cell_type": "code",
   "execution_count": null,
   "metadata": {},
   "outputs": [],
   "source": [
    "#DONE: validate all coefficients, do not filter >1\n",
    "#DONE: change the output to dataframe\n",
    "\n",
    "#TODO: add to git\n",
    "#TODO: copy link class from CellOracle to do the analysis\n",
    "#TODO: check if positives and negatives make sense (correlation)\n",
    "#TODO: see a way of incorporating correlation\n",
    "\n",
    "#TODO: Batch normalization\n",
    "#TODO: training and validation sets, k-fold cross-validation\n",
    "#TODO: sampling Markov Chains\n",
    "#TODO: early stopping\n",
    "#TODO: combined loss function\n",
    "#TODO: add tqdm bar\n",
    "#TODO: add self loops for transcription factors by adding a delay on it and incorporate it to the \n",
    "#      feature matrix\n",
    "\n",
    "#check gastrulation data not with velocity*\n",
    "\n",
    "#libraries I had to install: tqdm, ipywidgets, seaborn"
   ]
  },
  {
   "cell_type": "code",
   "execution_count": 28,
   "metadata": {},
   "outputs": [],
   "source": [
    "pickle.dump(links, open( \"links.p\", \"wb\" ) )"
   ]
  },
  {
   "cell_type": "code",
   "execution_count": 30,
   "metadata": {},
   "outputs": [
    {
     "data": {
      "text/html": [
       "<div>\n",
       "<style scoped>\n",
       "    .dataframe tbody tr th:only-of-type {\n",
       "        vertical-align: middle;\n",
       "    }\n",
       "\n",
       "    .dataframe tbody tr th {\n",
       "        vertical-align: top;\n",
       "    }\n",
       "\n",
       "    .dataframe thead th {\n",
       "        text-align: right;\n",
       "    }\n",
       "</style>\n",
       "<table border=\"1\" class=\"dataframe\">\n",
       "  <thead>\n",
       "    <tr style=\"text-align: right;\">\n",
       "      <th></th>\n",
       "      <th>TF</th>\n",
       "      <th>importance</th>\n",
       "      <th>target</th>\n",
       "    </tr>\n",
       "  </thead>\n",
       "  <tbody>\n",
       "    <tr>\n",
       "      <th>0</th>\n",
       "      <td>Npdc1</td>\n",
       "      <td>2.968795</td>\n",
       "      <td>Acot7</td>\n",
       "    </tr>\n",
       "    <tr>\n",
       "      <th>1</th>\n",
       "      <td>Nr4a1</td>\n",
       "      <td>2.862359</td>\n",
       "      <td>Acot7</td>\n",
       "    </tr>\n",
       "    <tr>\n",
       "      <th>2</th>\n",
       "      <td>Tead2</td>\n",
       "      <td>2.722077</td>\n",
       "      <td>Acot7</td>\n",
       "    </tr>\n",
       "    <tr>\n",
       "      <th>3</th>\n",
       "      <td>Nkx6-1</td>\n",
       "      <td>2.662524</td>\n",
       "      <td>Acot7</td>\n",
       "    </tr>\n",
       "    <tr>\n",
       "      <th>4</th>\n",
       "      <td>Foxp1</td>\n",
       "      <td>2.540190</td>\n",
       "      <td>Acot7</td>\n",
       "    </tr>\n",
       "  </tbody>\n",
       "</table>\n",
       "</div>"
      ],
      "text/plain": [
       "       TF  importance target\n",
       "0   Npdc1    2.968795  Acot7\n",
       "1   Nr4a1    2.862359  Acot7\n",
       "2   Tead2    2.722077  Acot7\n",
       "3  Nkx6-1    2.662524  Acot7\n",
       "4   Foxp1    2.540190  Acot7"
      ]
     },
     "execution_count": 30,
     "metadata": {},
     "output_type": "execute_result"
    }
   ],
   "source": [
    "links.head()"
   ]
  },
  {
   "cell_type": "code",
   "execution_count": null,
   "metadata": {},
   "outputs": [],
   "source": []
  },
  {
   "cell_type": "code",
   "execution_count": null,
   "metadata": {},
   "outputs": [],
   "source": []
  },
  {
   "cell_type": "code",
   "execution_count": null,
   "metadata": {},
   "outputs": [],
   "source": []
  },
  {
   "cell_type": "code",
   "execution_count": null,
   "metadata": {},
   "outputs": [],
   "source": []
  },
  {
   "cell_type": "code",
   "execution_count": null,
   "metadata": {},
   "outputs": [],
   "source": []
  },
  {
   "cell_type": "code",
   "execution_count": null,
   "metadata": {},
   "outputs": [],
   "source": []
  },
  {
   "cell_type": "code",
   "execution_count": null,
   "metadata": {},
   "outputs": [],
   "source": []
  },
  {
   "cell_type": "code",
   "execution_count": null,
   "metadata": {},
   "outputs": [],
   "source": []
  },
  {
   "cell_type": "code",
   "execution_count": null,
   "metadata": {},
   "outputs": [],
   "source": []
  },
  {
   "cell_type": "code",
   "execution_count": null,
   "metadata": {},
   "outputs": [],
   "source": []
  },
  {
   "cell_type": "code",
   "execution_count": 13,
   "metadata": {},
   "outputs": [],
   "source": [
    "allcauses = pickle.load( open( \"allcauses.p\", \"rb\" ) ) #validated causes\n",
    "alldelays = pickle.load( open( \"alldelays.p\", \"rb\" ) ) #delays of validated causes\n",
    "allrealosses = pickle.load( open( \"allrealosses.p\", \"rb\" ) ) #loss function of each target gene\n",
    "allscores = pickle.load( open( \"allscores.p\", \"rb\" ) ) #attention scores of each TFs for each target gene\n",
    "columns = pickle.load( open( \"columns.p\", \"rb\" ) ) #name of genes"
   ]
  },
  {
   "cell_type": "code",
   "execution_count": 30,
   "metadata": {},
   "outputs": [
    {
     "data": {
      "text/plain": [
       "179"
      ]
     },
     "execution_count": 30,
     "metadata": {},
     "output_type": "execute_result"
    }
   ],
   "source": [
    "len(columns)"
   ]
  },
  {
   "cell_type": "code",
   "execution_count": 37,
   "metadata": {},
   "outputs": [],
   "source": [
    "df = pd.DataFrame()\n",
    "\n",
    "for i in np.arange(len(columns)-1):\n",
    "    temp_df = pd.DataFrame({'TF':columns, 'score':allscores[1]})\n",
    "    temp_df['target'] = columns[i+1]\n",
    "    temp_df['importance'] = abs(temp_df['score'])\n",
    "    temp_df = temp_df.iloc[1:]\n",
    "    temp_df = temp_df.drop('score',axis=1)\n",
    "    temp_df.sort_values(by='importance', ascending=False)\n",
    "    df = pd.concat([df, temp_df])"
   ]
  },
  {
   "cell_type": "code",
   "execution_count": 39,
   "metadata": {},
   "outputs": [],
   "source": [
    "df.to_csv('./adjacencies_tcdf.csv')"
   ]
  },
  {
   "cell_type": "code",
   "execution_count": 7,
   "metadata": {},
   "outputs": [
    {
     "data": {
      "text/plain": [
       "'Run TCDF and evaluate by comparing the results to the ground truth'"
      ]
     },
     "execution_count": 7,
     "metadata": {},
     "output_type": "execute_result"
    }
   ],
   "source": [
    "\"\"\"Run TCDF and evaluate by comparing the results to the ground truth\"\"\"\n",
    "#%matplotlib inline\n",
    "#%run -i \"runTCDF.py\" --ground_truth data/demo_dataset.csv=data/demo_groundtruth.csv  --epochs 500 --log_interval 250 --plot"
   ]
  },
  {
   "cell_type": "code",
   "execution_count": 8,
   "metadata": {},
   "outputs": [
    {
     "name": "stdout",
     "output_type": "stream",
     "text": [
      "Arguments: Namespace(cuda=False, data=['data/demo_dataset.csv'], dilation_coefficient=4, epochs=1000, hidden_layers=0, kernel_size=4, learning_rate=0.01, log_interval=500, optimizer='Adam', plot=True, seed=1111, train_test_split=0.8)\n",
      "\n",
      " Analysis started for target:  Timeser0\n",
      "Epoch:  1 [0%] \tLoss: 2.302341\n",
      "Epoch: 500 [50%] \tLoss: 1.684885\n",
      "Epoch: 1000 [100%] \tLoss: 1.684628\n",
      "\n",
      " Analysis started for target:  Timeser1\n",
      "Epoch:  1 [0%] \tLoss: 4.267725\n",
      "Epoch: 500 [50%] \tLoss: 0.002414\n",
      "Epoch: 1000 [100%] \tLoss: 0.002391\n",
      "\n",
      " Analysis started for target:  Timeser2\n",
      "Epoch:  1 [0%] \tLoss: 1.714815\n",
      "Epoch: 500 [50%] \tLoss: 0.357675\n",
      "Epoch: 1000 [100%] \tLoss: 0.357274\n",
      "\n",
      " Analysis started for target:  Timeser3 \n",
      "Epoch:  1 [0%] \tLoss: 2.279164\n",
      "Epoch: 500 [50%] \tLoss: 1.672744\n",
      "Epoch: 1000 [100%] \tLoss: 1.671476\n",
      "\n",
      "Mean Absolute Scaled Error (MASE) averaged over all time series in data/demo_dataset.csv : 0.46831273714337796 with standard deviation 0.3081046067842619\n"
     ]
    },
    {
     "data": {
      "image/png": "[encoded data removed]",
      "text/plain": [
       "<Figure size 432x288 with 1 Axes>"
      ]
     },
     "metadata": {
      "needs_background": "light"
     },
     "output_type": "display_data"
    }
   ],
   "source": [
    "\"\"\"Evaluates the prediction accuracy of TCDF.\"\"\"\n",
    "\"\"\"For more information about MASE (Mean Absolute Scaled Error), see https://otexts.org/fpp2/accuracy.html\"\"\"\n",
    "\n",
    "%matplotlib inline\n",
    "%run -i \"evaluate_predictions_TCDF.py\" --data data/demo_dataset.csv --plot"
   ]
  },
  {
   "cell_type": "code",
   "execution_count": null,
   "metadata": {},
   "outputs": [],
   "source": []
  }
 ],
 "metadata": {
  "kernelspec": {
   "display_name": "TCDF_py",
   "language": "python",
   "name": "tcdf_py"
  },
  "language_info": {
   "codemirror_mode": {
    "name": "ipython",
    "version": 3
   },
   "file_extension": ".py",
   "mimetype": "text/x-python",
   "name": "python",
   "nbconvert_exporter": "python",
   "pygments_lexer": "ipython3",
   "version": "3.5.5"
  }
 },
 "nbformat": 4,
 "nbformat_minor": 4
}
