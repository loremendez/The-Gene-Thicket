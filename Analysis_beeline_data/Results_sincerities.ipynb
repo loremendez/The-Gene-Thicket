{
 "cells": [
  {
   "cell_type": "code",
   "execution_count": 1,
   "id": "715d82d7",
   "metadata": {},
   "outputs": [],
   "source": [
    "import os \n",
    "import numpy as np \n",
    "import pandas as pd\n",
    "import seaborn as sns\n",
    "import pickle\n",
    "import matplotlib.pyplot as plt"
   ]
  },
  {
   "cell_type": "code",
   "execution_count": 2,
   "id": "591c373d-c6df-4dbb-b733-640ef593b519",
   "metadata": {},
   "outputs": [],
   "source": [
    "import sys\n",
    "\n",
    "sys.path.append(\"/home/lorena/Documents/Lorena_Thesis/Causal_CNN/\")\n",
    "\n",
    "from libs.network_analysis import evaluation"
   ]
  },
  {
   "cell_type": "code",
   "execution_count": 3,
   "id": "8bf92cc8",
   "metadata": {},
   "outputs": [],
   "source": [
    "sns.set_style(\"whitegrid\")#, {\"axes.facecolor\": \".9\"})\n",
    "sns.set_context(\"paper\")"
   ]
  },
  {
   "cell_type": "code",
   "execution_count": 4,
   "id": "07c04e17",
   "metadata": {},
   "outputs": [],
   "source": [
    "my_path = './Results/Results_sincerities/'\n",
    "save_path = './Results/Results_sincerities/summary/'"
   ]
  },
  {
   "cell_type": "code",
   "execution_count": 5,
   "id": "c1b72326",
   "metadata": {
    "tags": []
   },
   "outputs": [],
   "source": [
    "links_curated={}\n",
    "links_synthetic={}\n",
    "for el in os.listdir(my_path):\n",
    "    complete_path = os.path.join(my_path, el)\n",
    "    if os.path.isfile(complete_path):\n",
    "        if el[:3]=='dyn':\n",
    "            links_synthetic[el] = pd.read_csv(complete_path)\n",
    "        else:\n",
    "            links_curated[el] = pd.read_csv(complete_path)"
   ]
  },
  {
   "cell_type": "markdown",
   "id": "05a17a97",
   "metadata": {},
   "source": [
    "## Synthetic"
   ]
  },
  {
   "cell_type": "code",
   "execution_count": 6,
   "id": "04f59ef1",
   "metadata": {
    "tags": []
   },
   "outputs": [],
   "source": [
    "base_path = './beeline_data/synthetic/'\n",
    "refs = {}\n",
    "\n",
    "for folder in os.listdir(base_path):\n",
    "    temp_path = os.path.join(base_path, folder)\n",
    "    for fol in os.listdir(temp_path):\n",
    "        refs[fol] = pd.read_csv(temp_path + '/' + fol + '/refNetwork.csv') #ground truth"
   ]
  },
  {
   "cell_type": "code",
   "execution_count": 7,
   "id": "e1954f57",
   "metadata": {
    "tags": []
   },
   "outputs": [],
   "source": [
    "metrics_df = pd.DataFrame()\n",
    "\n",
    "for el in links_synthetic:\n",
    "    tfs = links_synthetic[el]['SourceGENES'].unique()\n",
    "    genes = links_synthetic[el]['TargetGENES'].unique()\n",
    "    num_links = np.where(refs[el]['Gene1'] == refs[el]['Gene2'], 0, 1).sum()\n",
    "    links_temp = pd.DataFrame({'TF': links_synthetic[el]['SourceGENES'],\n",
    "                               'importance': links_synthetic[el]['Interaction'],\n",
    "                               'target': links_synthetic[el]['TargetGENES']})\n",
    "    metrics_df = metrics_df.append(evaluation(links_temp[:num_links], refs[el], tfs, genes))\n",
    "\n",
    "#metrics_df.index = links.keys()"
   ]
  },
  {
   "cell_type": "code",
   "execution_count": 8,
   "id": "6e153584",
   "metadata": {},
   "outputs": [],
   "source": [
    "metrics_df.index = links_synthetic.keys()"
   ]
  },
  {
   "cell_type": "code",
   "execution_count": 9,
   "id": "1c4a22eb",
   "metadata": {},
   "outputs": [],
   "source": [
    "metrics_df.columns = ['fscore', 'AUPRC', 'AUROC']"
   ]
  },
  {
   "cell_type": "code",
   "execution_count": 10,
   "id": "40a72549",
   "metadata": {},
   "outputs": [],
   "source": [
    "metrics_df['data'] = [el.split(sep='-')[1] for el in metrics_df.index]"
   ]
  },
  {
   "cell_type": "code",
   "execution_count": 11,
   "id": "6e4bc715",
   "metadata": {},
   "outputs": [
    {
     "data": {
      "text/plain": [
       "Text(0.5, 1.0, 'Curated Datasets F-score')"
      ]
     },
     "execution_count": 11,
     "metadata": {},
     "output_type": "execute_result"
    },
    {
     "data": {
      "image/png": "[encoded data removed]",
      "text/plain": [
       "<Figure size 1080x216 with 3 Axes>"
      ]
     },
     "metadata": {},
     "output_type": "display_data"
    }
   ],
   "source": [
    "fig, axs = plt.subplots(ncols=3, figsize=(15,3))\n",
    "\n",
    "sns.boxplot(data=metrics_df, x=\"data\", y=\"AUPRC\", ax=axs[0])\n",
    "axs[0].set_title('Curated Datasets AUPRC')\n",
    "sns.boxplot(data=metrics_df, x=\"data\", y=\"AUROC\", ax=axs[1])\n",
    "axs[1].set_title('Curated Datasets AUROC')\n",
    "sns.boxplot(data=metrics_df, x=\"data\", y=\"fscore\", ax=axs[2])\n",
    "axs[2].set_title('Curated Datasets F-score')"
   ]
  },
  {
   "cell_type": "code",
   "execution_count": 12,
   "id": "5e5b9b9e",
   "metadata": {},
   "outputs": [],
   "source": [
    "metrics_df.to_csv(save_path + 'synthetic.csv')"
   ]
  },
  {
   "cell_type": "markdown",
   "id": "af04d8a9",
   "metadata": {},
   "source": [
    "## Curated"
   ]
  },
  {
   "cell_type": "code",
   "execution_count": 13,
   "id": "3491a570",
   "metadata": {
    "tags": []
   },
   "outputs": [],
   "source": [
    "base_path = './beeline_data/curated/'\n",
    "refs = {}\n",
    "\n",
    "for folder in os.listdir(base_path):\n",
    "    temp_path = os.path.join(base_path, folder)\n",
    "    for fol in os.listdir(temp_path):\n",
    "        refs[fol] = pd.read_csv(temp_path + '/' + fol + '/refNetwork.csv') #ground truth"
   ]
  },
  {
   "cell_type": "code",
   "execution_count": 14,
   "id": "70270203",
   "metadata": {
    "tags": []
   },
   "outputs": [],
   "source": [
    "metrics_df = pd.DataFrame()\n",
    "\n",
    "for el in links_curated:\n",
    "    tfs = links_curated[el]['SourceGENES'].unique()\n",
    "    genes = links_curated[el]['TargetGENES'].unique()\n",
    "    num_links = np.where(refs[el]['Gene1'] == refs[el]['Gene2'], 0, 1).sum()\n",
    "    links_temp = pd.DataFrame({'TF': links_curated[el]['SourceGENES'],\n",
    "                               'importance': links_curated[el]['Interaction'],\n",
    "                               'target': links_curated[el]['TargetGENES']})\n",
    "    metrics_df = metrics_df.append(evaluation(links_temp[:num_links], refs[el], tfs, genes))\n",
    "\n",
    "#metrics_df.index = links.keys()"
   ]
  },
  {
   "cell_type": "code",
   "execution_count": 15,
   "id": "776c04c8",
   "metadata": {},
   "outputs": [],
   "source": [
    "metrics_df.index = links_curated.keys()"
   ]
  },
  {
   "cell_type": "code",
   "execution_count": 16,
   "id": "ea0a0370",
   "metadata": {},
   "outputs": [],
   "source": [
    "metrics_df.columns = ['fscore', 'AUPRC', 'AUROC']"
   ]
  },
  {
   "cell_type": "code",
   "execution_count": 17,
   "id": "01dc6c24",
   "metadata": {},
   "outputs": [],
   "source": [
    "metrics_df['data'] = [el.split(sep='-')[0] for el in metrics_df.index]"
   ]
  },
  {
   "cell_type": "code",
   "execution_count": 18,
   "id": "c202c47c",
   "metadata": {},
   "outputs": [
    {
     "data": {
      "text/plain": [
       "Text(0.5, 1.0, 'Curated Datasets F-score')"
      ]
     },
     "execution_count": 18,
     "metadata": {},
     "output_type": "execute_result"
    },
    {
     "data": {
      "image/png": "[encoded data removed]",
      "text/plain": [
       "<Figure size 1080x216 with 3 Axes>"
      ]
     },
     "metadata": {},
     "output_type": "display_data"
    }
   ],
   "source": [
    "fig, axs = plt.subplots(ncols=3, figsize=(15,3))\n",
    "\n",
    "sns.boxplot(data=metrics_df, x=\"data\", y=\"AUPRC\", ax=axs[0])\n",
    "axs[0].set_title('Curated Datasets AUPRC')\n",
    "sns.boxplot(data=metrics_df, x=\"data\", y=\"AUROC\", ax=axs[1])\n",
    "axs[1].set_title('Curated Datasets AUROC')\n",
    "sns.boxplot(data=metrics_df, x=\"data\", y=\"fscore\", ax=axs[2])\n",
    "axs[2].set_title('Curated Datasets F-score')"
   ]
  },
  {
   "cell_type": "code",
   "execution_count": 19,
   "id": "9cf71bf7",
   "metadata": {},
   "outputs": [],
   "source": [
    "metrics_df.to_csv(save_path + 'curated.csv')"
   ]
  },
  {
   "cell_type": "code",
   "execution_count": null,
   "id": "8fce32b8",
   "metadata": {},
   "outputs": [],
   "source": []
  },
  {
   "cell_type": "code",
   "execution_count": null,
   "id": "c971c8d1",
   "metadata": {},
   "outputs": [],
   "source": []
  }
 ],
 "metadata": {
  "kernelspec": {
   "display_name": "Python 3 (ipykernel)",
   "language": "python",
   "name": "python3"
  },
  "language_info": {
   "codemirror_mode": {
    "name": "ipython",
    "version": 3
   },
   "file_extension": ".py",
   "mimetype": "text/x-python",
   "name": "python",
   "nbconvert_exporter": "python",
   "pygments_lexer": "ipython3",
   "version": "3.9.5"
  }
 },
 "nbformat": 4,
 "nbformat_minor": 5
}
