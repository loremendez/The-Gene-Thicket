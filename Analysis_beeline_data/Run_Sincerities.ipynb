{
 "cells": [
  {
   "cell_type": "code",
   "execution_count": 1,
   "id": "689b0de7-fe0f-4aa0-a991-9fb0629c1499",
   "metadata": {},
   "outputs": [
    {
     "name": "stderr",
     "output_type": "stream",
     "text": [
      "Loading required package: Matrix\n",
      "\n",
      "Loaded glmnet 4.1-2\n",
      "\n",
      "Loading required package: MASS\n",
      "\n",
      "Loading required package: SuppDists\n",
      "\n"
     ]
    }
   ],
   "source": [
    "library(reticulate)\n",
    "library(glmnet)\n",
    "library(ppcor)\n",
    "library(kSamples)"
   ]
  },
  {
   "cell_type": "code",
   "execution_count": 2,
   "id": "797dd02f-7af1-4a92-8de9-4ec674998d9f",
   "metadata": {},
   "outputs": [],
   "source": [
    "os <- import(\"os\")"
   ]
  },
  {
   "cell_type": "markdown",
   "id": "5de9d60f-c665-40ed-afd5-333f0ae73f19",
   "metadata": {},
   "source": [
    "## SYNTHETIC DATA"
   ]
  },
  {
   "cell_type": "code",
   "execution_count": 3,
   "id": "1607c8da-804d-4f40-bed1-da92e2f2fcac",
   "metadata": {},
   "outputs": [],
   "source": [
    "times_synthetic <- c()"
   ]
  },
  {
   "cell_type": "code",
   "execution_count": 3,
   "id": "f56d815c-cd17-4ac5-9a23-3bb8b32bda7d",
   "metadata": {},
   "outputs": [],
   "source": [
    "names <- c('dyn-BF', 'dyn-BFC', 'dyn-CY', 'dyn-LI', 'dyn-LL', 'dyn-TF')"
   ]
  },
  {
   "cell_type": "code",
   "execution_count": 6,
   "id": "a72bc992-7c66-4e03-a479-cb6b58816a21",
   "metadata": {},
   "outputs": [],
   "source": [
    "names_synthetic <- c()\n",
    "for (name in names){\n",
    "    base_path <- gsub(\" \", \"\", paste('./beeline_data/synthetic/',name,'/'), fixed=TRUE)\n",
    "    for (folder in os$listdir(base_path)){\n",
    "        names_synthetic <- c(names_synthetic, folder)\n",
    "    }}"
   ]
  },
  {
   "cell_type": "code",
   "execution_count": 7,
   "id": "68ce2c61-50e8-438d-924a-c427c8945856",
   "metadata": {},
   "outputs": [],
   "source": [
    "write(names_synthetic, \"names_synthetic.txt\")"
   ]
  },
  {
   "cell_type": "code",
   "execution_count": 5,
   "id": "feb46c88-26e6-4463-8d79-4976d8182e9a",
   "metadata": {
    "collapsed": true,
    "jupyter": {
     "outputs_hidden": true
    },
    "tags": []
   },
   "outputs": [
    {
     "name": "stdout",
     "output_type": "stream",
     "text": [
      "[1] \"./beeline_data/synthetic/dyn-BF/dyn-BF-2000-4\"\n"
     ]
    },
    {
     "name": "stderr",
     "output_type": "stream",
     "text": [
      "Warning message in dir.create(\"Results\"):\n",
      "“'Results' already exists”\n"
     ]
    },
    {
     "name": "stdout",
     "output_type": "stream",
     "text": [
      "[1] \"./beeline_data/synthetic/dyn-BF/dyn-BF-5000-5\"\n"
     ]
    },
    {
     "name": "stderr",
     "output_type": "stream",
     "text": [
      "Warning message in ks.test(p1, p2):\n",
      "“cannot compute exact p-value with ties”\n",
      "Warning message in ks.test(p1, p2):\n",
      "“cannot compute exact p-value with ties”\n",
      "Warning message in dir.create(\"Results\"):\n",
      "“'Results' already exists”\n"
     ]
    },
    {
     "name": "stdout",
     "output_type": "stream",
     "text": [
      "[1] \"./beeline_data/synthetic/dyn-BF/dyn-BF-2000-6\"\n"
     ]
    },
    {
     "name": "stderr",
     "output_type": "stream",
     "text": [
      "Warning message in dir.create(\"Results\"):\n",
      "“'Results' already exists”\n"
     ]
    },
    {
     "name": "stdout",
     "output_type": "stream",
     "text": [
      "[1] \"./beeline_data/synthetic/dyn-BF/dyn-BF-2000-9\"\n"
     ]
    },
    {
     "name": "stderr",
     "output_type": "stream",
     "text": [
      "Warning message in dir.create(\"Results\"):\n",
      "“'Results' already exists”\n"
     ]
    },
    {
     "name": "stdout",
     "output_type": "stream",
     "text": [
      "[1] \"./beeline_data/synthetic/dyn-BF/dyn-BF-5000-9\"\n"
     ]
    },
    {
     "name": "stderr",
     "output_type": "stream",
     "text": [
      "Warning message in ks.test(p1, p2):\n",
      "“cannot compute exact p-value with ties”\n",
      "Warning message in ks.test(p1, p2):\n",
      "“cannot compute exact p-value with ties”\n",
      "Warning message in ks.test(p1, p2):\n",
      "“cannot compute exact p-value with ties”\n",
      "Warning message in ks.test(p1, p2):\n",
      "“cannot compute exact p-value with ties”\n",
      "Warning message in dir.create(\"Results\"):\n",
      "“'Results' already exists”\n"
     ]
    },
    {
     "name": "stdout",
     "output_type": "stream",
     "text": [
      "[1] \"./beeline_data/synthetic/dyn-BF/dyn-BF-5000-1\"\n"
     ]
    },
    {
     "name": "stderr",
     "output_type": "stream",
     "text": [
      "Warning message in ks.test(p1, p2):\n",
      "“cannot compute exact p-value with ties”\n",
      "Warning message in ks.test(p1, p2):\n",
      "“cannot compute exact p-value with ties”\n",
      "Warning message in ks.test(p1, p2):\n",
      "“cannot compute exact p-value with ties”\n",
      "Warning message in ks.test(p1, p2):\n",
      "“cannot compute exact p-value with ties”\n",
      "Warning message in dir.create(\"Results\"):\n",
      "“'Results' already exists”\n"
     ]
    },
    {
     "name": "stdout",
     "output_type": "stream",
     "text": [
      "[1] \"./beeline_data/synthetic/dyn-BF/dyn-BF-2000-7\"\n"
     ]
    },
    {
     "name": "stderr",
     "output_type": "stream",
     "text": [
      "Warning message in dir.create(\"Results\"):\n",
      "“'Results' already exists”\n"
     ]
    },
    {
     "name": "stdout",
     "output_type": "stream",
     "text": [
      "[1] \"./beeline_data/synthetic/dyn-BF/dyn-BF-5000-8\"\n"
     ]
    },
    {
     "name": "stderr",
     "output_type": "stream",
     "text": [
      "Warning message in ks.test(p1, p2):\n",
      "“cannot compute exact p-value with ties”\n",
      "Warning message in ks.test(p1, p2):\n",
      "“cannot compute exact p-value with ties”\n",
      "Warning message in dir.create(\"Results\"):\n",
      "“'Results' already exists”\n"
     ]
    },
    {
     "name": "stdout",
     "output_type": "stream",
     "text": [
      "[1] \"./beeline_data/synthetic/dyn-BF/dyn-BF-2000-5\"\n"
     ]
    },
    {
     "name": "stderr",
     "output_type": "stream",
     "text": [
      "Warning message in ks.test(p1, p2):\n",
      "“cannot compute exact p-value with ties”\n",
      "Warning message in dir.create(\"Results\"):\n",
      "“'Results' already exists”\n"
     ]
    },
    {
     "name": "stdout",
     "output_type": "stream",
     "text": [
      "[1] \"./beeline_data/synthetic/dyn-BF/dyn-BF-2000-1\"\n"
     ]
    },
    {
     "name": "stderr",
     "output_type": "stream",
     "text": [
      "Warning message in dir.create(\"Results\"):\n",
      "“'Results' already exists”\n"
     ]
    },
    {
     "name": "stdout",
     "output_type": "stream",
     "text": [
      "[1] \"./beeline_data/synthetic/dyn-BF/dyn-BF-5000-4\"\n"
     ]
    },
    {
     "name": "stderr",
     "output_type": "stream",
     "text": [
      "Warning message in ks.test(p1, p2):\n",
      "“cannot compute exact p-value with ties”\n",
      "Warning message in ks.test(p1, p2):\n",
      "“cannot compute exact p-value with ties”\n",
      "Warning message in dir.create(\"Results\"):\n",
      "“'Results' already exists”\n"
     ]
    },
    {
     "name": "stdout",
     "output_type": "stream",
     "text": [
      "[1] \"./beeline_data/synthetic/dyn-BF/dyn-BF-2000-2\"\n"
     ]
    },
    {
     "name": "stderr",
     "output_type": "stream",
     "text": [
      "Warning message in dir.create(\"Results\"):\n",
      "“'Results' already exists”\n"
     ]
    },
    {
     "name": "stdout",
     "output_type": "stream",
     "text": [
      "[1] \"./beeline_data/synthetic/dyn-BF/dyn-BF-5000-3\"\n"
     ]
    },
    {
     "name": "stderr",
     "output_type": "stream",
     "text": [
      "Warning message in ks.test(p1, p2):\n",
      "“cannot compute exact p-value with ties”\n",
      "Warning message in ks.test(p1, p2):\n",
      "“cannot compute exact p-value with ties”\n",
      "Warning message in dir.create(\"Results\"):\n",
      "“'Results' already exists”\n"
     ]
    },
    {
     "name": "stdout",
     "output_type": "stream",
     "text": [
      "[1] \"./beeline_data/synthetic/dyn-BF/dyn-BF-5000-7\"\n"
     ]
    },
    {
     "name": "stderr",
     "output_type": "stream",
     "text": [
      "Warning message in ks.test(p1, p2):\n",
      "“cannot compute exact p-value with ties”\n",
      "Warning message in ks.test(p1, p2):\n",
      "“cannot compute exact p-value with ties”\n",
      "Warning message in ks.test(p1, p2):\n",
      "“cannot compute exact p-value with ties”\n",
      "Warning message in dir.create(\"Results\"):\n",
      "“'Results' already exists”\n"
     ]
    },
    {
     "name": "stdout",
     "output_type": "stream",
     "text": [
      "[1] \"./beeline_data/synthetic/dyn-BF/dyn-BF-5000-2\"\n"
     ]
    },
    {
     "name": "stderr",
     "output_type": "stream",
     "text": [
      "Warning message in ks.test(p1, p2):\n",
      "“cannot compute exact p-value with ties”\n",
      "Warning message in dir.create(\"Results\"):\n",
      "“'Results' already exists”\n"
     ]
    },
    {
     "name": "stdout",
     "output_type": "stream",
     "text": [
      "[1] \"./beeline_data/synthetic/dyn-BF/dyn-BF-5000-10\"\n"
     ]
    },
    {
     "name": "stderr",
     "output_type": "stream",
     "text": [
      "Warning message in ks.test(p1, p2):\n",
      "“cannot compute exact p-value with ties”\n",
      "Warning message in ks.test(p1, p2):\n",
      "“cannot compute exact p-value with ties”\n",
      "Warning message in dir.create(\"Results\"):\n",
      "“'Results' already exists”\n"
     ]
    },
    {
     "name": "stdout",
     "output_type": "stream",
     "text": [
      "[1] \"./beeline_data/synthetic/dyn-BF/dyn-BF-2000-10\"\n"
     ]
    },
    {
     "name": "stderr",
     "output_type": "stream",
     "text": [
      "Warning message in dir.create(\"Results\"):\n",
      "“'Results' already exists”\n"
     ]
    },
    {
     "name": "stdout",
     "output_type": "stream",
     "text": [
      "[1] \"./beeline_data/synthetic/dyn-BF/dyn-BF-2000-8\"\n"
     ]
    },
    {
     "name": "stderr",
     "output_type": "stream",
     "text": [
      "Warning message in dir.create(\"Results\"):\n",
      "“'Results' already exists”\n"
     ]
    },
    {
     "name": "stdout",
     "output_type": "stream",
     "text": [
      "[1] \"./beeline_data/synthetic/dyn-BF/dyn-BF-2000-3\"\n"
     ]
    },
    {
     "name": "stderr",
     "output_type": "stream",
     "text": [
      "Warning message in ks.test(p1, p2):\n",
      "“cannot compute exact p-value with ties”\n",
      "Warning message in dir.create(\"Results\"):\n",
      "“'Results' already exists”\n"
     ]
    },
    {
     "name": "stdout",
     "output_type": "stream",
     "text": [
      "[1] \"./beeline_data/synthetic/dyn-BF/dyn-BF-5000-6\"\n"
     ]
    },
    {
     "name": "stderr",
     "output_type": "stream",
     "text": [
      "Warning message in dir.create(\"Results\"):\n",
      "“'Results' already exists”\n"
     ]
    },
    {
     "name": "stdout",
     "output_type": "stream",
     "text": [
      "[1] \"./beeline_data/synthetic/dyn-BFC/dyn-BFC-2000-9\"\n"
     ]
    },
    {
     "name": "stderr",
     "output_type": "stream",
     "text": [
      "Warning message in ks.test(p1, p2):\n",
      "“cannot compute exact p-value with ties”\n",
      "Warning message in ks.test(p1, p2):\n",
      "“cannot compute exact p-value with ties”\n",
      "Warning message in ks.test(p1, p2):\n",
      "“cannot compute exact p-value with ties”\n",
      "Warning message in dir.create(\"Results\"):\n",
      "“'Results' already exists”\n"
     ]
    },
    {
     "name": "stdout",
     "output_type": "stream",
     "text": [
      "[1] \"./beeline_data/synthetic/dyn-BFC/dyn-BFC-5000-4\"\n"
     ]
    },
    {
     "name": "stderr",
     "output_type": "stream",
     "text": [
      "Warning message in ks.test(p1, p2):\n",
      "“cannot compute exact p-value with ties”\n",
      "Warning message in ks.test(p1, p2):\n",
      "“cannot compute exact p-value with ties”\n",
      "Warning message in dir.create(\"Results\"):\n",
      "“'Results' already exists”\n"
     ]
    },
    {
     "name": "stdout",
     "output_type": "stream",
     "text": [
      "[1] \"./beeline_data/synthetic/dyn-BFC/dyn-BFC-5000-6\"\n"
     ]
    },
    {
     "name": "stderr",
     "output_type": "stream",
     "text": [
      "Warning message in ks.test(p1, p2):\n",
      "“cannot compute exact p-value with ties”\n",
      "Warning message in ks.test(p1, p2):\n",
      "“cannot compute exact p-value with ties”\n",
      "Warning message in ks.test(p1, p2):\n",
      "“cannot compute exact p-value with ties”\n",
      "Warning message in dir.create(\"Results\"):\n",
      "“'Results' already exists”\n"
     ]
    },
    {
     "name": "stdout",
     "output_type": "stream",
     "text": [
      "[1] \"./beeline_data/synthetic/dyn-BFC/dyn-BFC-2000-1\"\n"
     ]
    },
    {
     "name": "stderr",
     "output_type": "stream",
     "text": [
      "Warning message in ks.test(p1, p2):\n",
      "“cannot compute exact p-value with ties”\n",
      "Warning message in ks.test(p1, p2):\n",
      "“cannot compute exact p-value with ties”\n",
      "Warning message in dir.create(\"Results\"):\n",
      "“'Results' already exists”\n"
     ]
    },
    {
     "name": "stdout",
     "output_type": "stream",
     "text": [
      "[1] \"./beeline_data/synthetic/dyn-BFC/dyn-BFC-5000-2\"\n"
     ]
    },
    {
     "name": "stderr",
     "output_type": "stream",
     "text": [
      "Warning message in ks.test(p1, p2):\n",
      "“cannot compute exact p-value with ties”\n",
      "Warning message in ks.test(p1, p2):\n",
      "“cannot compute exact p-value with ties”\n",
      "Warning message in ks.test(p1, p2):\n",
      "“cannot compute exact p-value with ties”\n",
      "Warning message in ks.test(p1, p2):\n",
      "“cannot compute exact p-value with ties”\n",
      "Warning message in dir.create(\"Results\"):\n",
      "“'Results' already exists”\n"
     ]
    },
    {
     "name": "stdout",
     "output_type": "stream",
     "text": [
      "[1] \"./beeline_data/synthetic/dyn-BFC/dyn-BFC-2000-8\"\n"
     ]
    },
    {
     "name": "stderr",
     "output_type": "stream",
     "text": [
      "Warning message in dir.create(\"Results\"):\n",
      "“'Results' already exists”\n"
     ]
    },
    {
     "name": "stdout",
     "output_type": "stream",
     "text": [
      "[1] \"./beeline_data/synthetic/dyn-BFC/dyn-BFC-5000-9\"\n"
     ]
    },
    {
     "name": "stderr",
     "output_type": "stream",
     "text": [
      "Warning message in ks.test(p1, p2):\n",
      "“cannot compute exact p-value with ties”\n",
      "Warning message in ks.test(p1, p2):\n",
      "“cannot compute exact p-value with ties”\n",
      "Warning message in ks.test(p1, p2):\n",
      "“cannot compute exact p-value with ties”\n",
      "Warning message in dir.create(\"Results\"):\n",
      "“'Results' already exists”\n"
     ]
    },
    {
     "name": "stdout",
     "output_type": "stream",
     "text": [
      "[1] \"./beeline_data/synthetic/dyn-BFC/dyn-BFC-5000-5\"\n"
     ]
    },
    {
     "name": "stderr",
     "output_type": "stream",
     "text": [
      "Warning message in ks.test(p1, p2):\n",
      "“cannot compute exact p-value with ties”\n",
      "Warning message in ks.test(p1, p2):\n",
      "“cannot compute exact p-value with ties”\n",
      "Warning message in ks.test(p1, p2):\n",
      "“cannot compute exact p-value with ties”\n",
      "Warning message in ks.test(p1, p2):\n",
      "“cannot compute exact p-value with ties”\n",
      "Warning message in ks.test(p1, p2):\n",
      "“cannot compute exact p-value with ties”\n",
      "Warning message in ks.test(p1, p2):\n",
      "“cannot compute exact p-value with ties”\n",
      "Warning message in dir.create(\"Results\"):\n",
      "“'Results' already exists”\n"
     ]
    },
    {
     "name": "stdout",
     "output_type": "stream",
     "text": [
      "[1] \"./beeline_data/synthetic/dyn-BFC/dyn-BFC-5000-1\"\n"
     ]
    },
    {
     "name": "stderr",
     "output_type": "stream",
     "text": [
      "Warning message in ks.test(p1, p2):\n",
      "“cannot compute exact p-value with ties”\n",
      "Warning message in ks.test(p1, p2):\n",
      "“cannot compute exact p-value with ties”\n",
      "Warning message in ks.test(p1, p2):\n",
      "“cannot compute exact p-value with ties”\n",
      "Warning message in ks.test(p1, p2):\n",
      "“cannot compute exact p-value with ties”\n",
      "Warning message in ks.test(p1, p2):\n",
      "“cannot compute exact p-value with ties”\n",
      "Warning message in dir.create(\"Results\"):\n",
      "“'Results' already exists”\n"
     ]
    },
    {
     "name": "stdout",
     "output_type": "stream",
     "text": [
      "[1] \"./beeline_data/synthetic/dyn-BFC/dyn-BFC-2000-2\"\n"
     ]
    },
    {
     "name": "stderr",
     "output_type": "stream",
     "text": [
      "Warning message in dir.create(\"Results\"):\n",
      "“'Results' already exists”\n"
     ]
    },
    {
     "name": "stdout",
     "output_type": "stream",
     "text": [
      "[1] \"./beeline_data/synthetic/dyn-BFC/dyn-BFC-2000-5\"\n"
     ]
    },
    {
     "name": "stderr",
     "output_type": "stream",
     "text": [
      "Warning message in ks.test(p1, p2):\n",
      "“cannot compute exact p-value with ties”\n",
      "Warning message in ks.test(p1, p2):\n",
      "“cannot compute exact p-value with ties”\n",
      "Warning message in dir.create(\"Results\"):\n",
      "“'Results' already exists”\n"
     ]
    },
    {
     "name": "stdout",
     "output_type": "stream",
     "text": [
      "[1] \"./beeline_data/synthetic/dyn-BFC/dyn-BFC-2000-10\"\n"
     ]
    },
    {
     "name": "stderr",
     "output_type": "stream",
     "text": [
      "Warning message in dir.create(\"Results\"):\n",
      "“'Results' already exists”\n"
     ]
    },
    {
     "name": "stdout",
     "output_type": "stream",
     "text": [
      "[1] \"./beeline_data/synthetic/dyn-BFC/dyn-BFC-5000-8\"\n"
     ]
    },
    {
     "name": "stderr",
     "output_type": "stream",
     "text": [
      "Warning message in ks.test(p1, p2):\n",
      "“cannot compute exact p-value with ties”\n",
      "Warning message in ks.test(p1, p2):\n",
      "“cannot compute exact p-value with ties”\n",
      "Warning message in ks.test(p1, p2):\n",
      "“cannot compute exact p-value with ties”\n",
      "Warning message in ks.test(p1, p2):\n",
      "“cannot compute exact p-value with ties”\n",
      "Warning message in ks.test(p1, p2):\n",
      "“cannot compute exact p-value with ties”\n",
      "Warning message in dir.create(\"Results\"):\n",
      "“'Results' already exists”\n"
     ]
    },
    {
     "name": "stdout",
     "output_type": "stream",
     "text": [
      "[1] \"./beeline_data/synthetic/dyn-BFC/dyn-BFC-5000-7\"\n"
     ]
    },
    {
     "name": "stderr",
     "output_type": "stream",
     "text": [
      "Warning message in ks.test(p1, p2):\n",
      "“cannot compute exact p-value with ties”\n",
      "Warning message in ks.test(p1, p2):\n",
      "“cannot compute exact p-value with ties”\n",
      "Warning message in ks.test(p1, p2):\n",
      "“cannot compute exact p-value with ties”\n",
      "Warning message in ks.test(p1, p2):\n",
      "“cannot compute exact p-value with ties”\n",
      "Warning message in ks.test(p1, p2):\n",
      "“cannot compute exact p-value with ties”\n",
      "Warning message in ks.test(p1, p2):\n",
      "“cannot compute exact p-value with ties”\n",
      "Warning message in dir.create(\"Results\"):\n",
      "“'Results' already exists”\n"
     ]
    },
    {
     "name": "stdout",
     "output_type": "stream",
     "text": [
      "[1] \"./beeline_data/synthetic/dyn-BFC/dyn-BFC-5000-3\"\n"
     ]
    },
    {
     "name": "stderr",
     "output_type": "stream",
     "text": [
      "Warning message in ks.test(p1, p2):\n",
      "“cannot compute exact p-value with ties”\n",
      "Warning message in dir.create(\"Results\"):\n",
      "“'Results' already exists”\n"
     ]
    },
    {
     "name": "stdout",
     "output_type": "stream",
     "text": [
      "[1] \"./beeline_data/synthetic/dyn-BFC/dyn-BFC-5000-10\"\n"
     ]
    },
    {
     "name": "stderr",
     "output_type": "stream",
     "text": [
      "Warning message in ks.test(p1, p2):\n",
      "“cannot compute exact p-value with ties”\n",
      "Warning message in ks.test(p1, p2):\n",
      "“cannot compute exact p-value with ties”\n",
      "Warning message in ks.test(p1, p2):\n",
      "“cannot compute exact p-value with ties”\n",
      "Warning message in ks.test(p1, p2):\n",
      "“cannot compute exact p-value with ties”\n",
      "Warning message in ks.test(p1, p2):\n",
      "“cannot compute exact p-value with ties”\n",
      "Warning message in ks.test(p1, p2):\n",
      "“cannot compute exact p-value with ties”\n",
      "Warning message in dir.create(\"Results\"):\n",
      "“'Results' already exists”\n"
     ]
    },
    {
     "name": "stdout",
     "output_type": "stream",
     "text": [
      "[1] \"./beeline_data/synthetic/dyn-BFC/dyn-BFC-2000-6\"\n"
     ]
    },
    {
     "name": "stderr",
     "output_type": "stream",
     "text": [
      "Warning message in ks.test(p1, p2):\n",
      "“cannot compute exact p-value with ties”\n",
      "Warning message in ks.test(p1, p2):\n",
      "“cannot compute exact p-value with ties”\n",
      "Warning message in dir.create(\"Results\"):\n",
      "“'Results' already exists”\n"
     ]
    },
    {
     "name": "stdout",
     "output_type": "stream",
     "text": [
      "[1] \"./beeline_data/synthetic/dyn-BFC/dyn-BFC-2000-7\"\n"
     ]
    },
    {
     "name": "stderr",
     "output_type": "stream",
     "text": [
      "Warning message in dir.create(\"Results\"):\n",
      "“'Results' already exists”\n"
     ]
    },
    {
     "name": "stdout",
     "output_type": "stream",
     "text": [
      "[1] \"./beeline_data/synthetic/dyn-BFC/dyn-BFC-2000-4\"\n"
     ]
    },
    {
     "name": "stderr",
     "output_type": "stream",
     "text": [
      "Warning message in ks.test(p1, p2):\n",
      "“cannot compute exact p-value with ties”\n",
      "Warning message in dir.create(\"Results\"):\n",
      "“'Results' already exists”\n"
     ]
    },
    {
     "name": "stdout",
     "output_type": "stream",
     "text": [
      "[1] \"./beeline_data/synthetic/dyn-BFC/dyn-BFC-2000-3\"\n"
     ]
    },
    {
     "name": "stderr",
     "output_type": "stream",
     "text": [
      "Warning message in ks.test(p1, p2):\n",
      "“cannot compute exact p-value with ties”\n",
      "Warning message in ks.test(p1, p2):\n",
      "“cannot compute exact p-value with ties”\n",
      "Warning message in ks.test(p1, p2):\n",
      "“cannot compute exact p-value with ties”\n",
      "Warning message in dir.create(\"Results\"):\n",
      "“'Results' already exists”\n"
     ]
    },
    {
     "name": "stdout",
     "output_type": "stream",
     "text": [
      "[1] \"./beeline_data/synthetic/dyn-CY/dyn-CY-5000-5\"\n"
     ]
    },
    {
     "name": "stderr",
     "output_type": "stream",
     "text": [
      "Warning message in dir.create(\"Results\"):\n",
      "“'Results' already exists”\n"
     ]
    },
    {
     "name": "stdout",
     "output_type": "stream",
     "text": [
      "[1] \"./beeline_data/synthetic/dyn-CY/dyn-CY-5000-3\"\n"
     ]
    },
    {
     "name": "stderr",
     "output_type": "stream",
     "text": [
      "Warning message in dir.create(\"Results\"):\n",
      "“'Results' already exists”\n"
     ]
    },
    {
     "name": "stdout",
     "output_type": "stream",
     "text": [
      "[1] \"./beeline_data/synthetic/dyn-CY/dyn-CY-5000-7\"\n"
     ]
    },
    {
     "name": "stderr",
     "output_type": "stream",
     "text": [
      "Warning message in dir.create(\"Results\"):\n",
      "“'Results' already exists”\n"
     ]
    },
    {
     "name": "stdout",
     "output_type": "stream",
     "text": [
      "[1] \"./beeline_data/synthetic/dyn-CY/dyn-CY-5000-6\"\n"
     ]
    },
    {
     "name": "stderr",
     "output_type": "stream",
     "text": [
      "Warning message in dir.create(\"Results\"):\n",
      "“'Results' already exists”\n"
     ]
    },
    {
     "name": "stdout",
     "output_type": "stream",
     "text": [
      "[1] \"./beeline_data/synthetic/dyn-CY/dyn-CY-5000-9\"\n"
     ]
    },
    {
     "name": "stderr",
     "output_type": "stream",
     "text": [
      "Warning message in ks.test(p1, p2):\n",
      "“cannot compute exact p-value with ties”\n",
      "Warning message in dir.create(\"Results\"):\n",
      "“'Results' already exists”\n"
     ]
    },
    {
     "name": "stdout",
     "output_type": "stream",
     "text": [
      "[1] \"./beeline_data/synthetic/dyn-CY/dyn-CY-2000-10\"\n"
     ]
    },
    {
     "name": "stderr",
     "output_type": "stream",
     "text": [
      "Warning message in dir.create(\"Results\"):\n",
      "“'Results' already exists”\n"
     ]
    },
    {
     "name": "stdout",
     "output_type": "stream",
     "text": [
      "[1] \"./beeline_data/synthetic/dyn-CY/dyn-CY-2000-8\"\n"
     ]
    },
    {
     "name": "stderr",
     "output_type": "stream",
     "text": [
      "Warning message in dir.create(\"Results\"):\n",
      "“'Results' already exists”\n"
     ]
    },
    {
     "name": "stdout",
     "output_type": "stream",
     "text": [
      "[1] \"./beeline_data/synthetic/dyn-CY/dyn-CY-2000-3\"\n"
     ]
    },
    {
     "name": "stderr",
     "output_type": "stream",
     "text": [
      "Warning message in dir.create(\"Results\"):\n",
      "“'Results' already exists”\n"
     ]
    },
    {
     "name": "stdout",
     "output_type": "stream",
     "text": [
      "[1] \"./beeline_data/synthetic/dyn-CY/dyn-CY-5000-4\"\n"
     ]
    },
    {
     "name": "stderr",
     "output_type": "stream",
     "text": [
      "Warning message in dir.create(\"Results\"):\n",
      "“'Results' already exists”\n"
     ]
    },
    {
     "name": "stdout",
     "output_type": "stream",
     "text": [
      "[1] \"./beeline_data/synthetic/dyn-CY/dyn-CY-5000-8\"\n"
     ]
    },
    {
     "name": "stderr",
     "output_type": "stream",
     "text": [
      "Warning message in dir.create(\"Results\"):\n",
      "“'Results' already exists”\n"
     ]
    },
    {
     "name": "stdout",
     "output_type": "stream",
     "text": [
      "[1] \"./beeline_data/synthetic/dyn-CY/dyn-CY-2000-4\"\n"
     ]
    },
    {
     "name": "stderr",
     "output_type": "stream",
     "text": [
      "Warning message in dir.create(\"Results\"):\n",
      "“'Results' already exists”\n"
     ]
    },
    {
     "name": "stdout",
     "output_type": "stream",
     "text": [
      "[1] \"./beeline_data/synthetic/dyn-CY/dyn-CY-2000-1\"\n"
     ]
    },
    {
     "name": "stderr",
     "output_type": "stream",
     "text": [
      "Warning message in dir.create(\"Results\"):\n",
      "“'Results' already exists”\n"
     ]
    },
    {
     "name": "stdout",
     "output_type": "stream",
     "text": [
      "[1] \"./beeline_data/synthetic/dyn-CY/dyn-CY-5000-2\"\n"
     ]
    },
    {
     "name": "stderr",
     "output_type": "stream",
     "text": [
      "Warning message in ks.test(p1, p2):\n",
      "“cannot compute exact p-value with ties”\n",
      "Warning message in dir.create(\"Results\"):\n",
      "“'Results' already exists”\n"
     ]
    },
    {
     "name": "stdout",
     "output_type": "stream",
     "text": [
      "[1] \"./beeline_data/synthetic/dyn-CY/dyn-CY-2000-7\"\n"
     ]
    },
    {
     "name": "stderr",
     "output_type": "stream",
     "text": [
      "Warning message in ks.test(p1, p2):\n",
      "“cannot compute exact p-value with ties”\n",
      "Warning message in dir.create(\"Results\"):\n",
      "“'Results' already exists”\n"
     ]
    },
    {
     "name": "stdout",
     "output_type": "stream",
     "text": [
      "[1] \"./beeline_data/synthetic/dyn-CY/dyn-CY-2000-6\"\n"
     ]
    },
    {
     "name": "stderr",
     "output_type": "stream",
     "text": [
      "Warning message in dir.create(\"Results\"):\n",
      "“'Results' already exists”\n"
     ]
    },
    {
     "name": "stdout",
     "output_type": "stream",
     "text": [
      "[1] \"./beeline_data/synthetic/dyn-CY/dyn-CY-5000-1\"\n"
     ]
    },
    {
     "name": "stderr",
     "output_type": "stream",
     "text": [
      "Warning message in ks.test(p1, p2):\n",
      "“cannot compute exact p-value with ties”\n",
      "Warning message in dir.create(\"Results\"):\n",
      "“'Results' already exists”\n"
     ]
    },
    {
     "name": "stdout",
     "output_type": "stream",
     "text": [
      "[1] \"./beeline_data/synthetic/dyn-CY/dyn-CY-5000-10\"\n"
     ]
    },
    {
     "name": "stderr",
     "output_type": "stream",
     "text": [
      "Warning message in dir.create(\"Results\"):\n",
      "“'Results' already exists”\n"
     ]
    },
    {
     "name": "stdout",
     "output_type": "stream",
     "text": [
      "[1] \"./beeline_data/synthetic/dyn-CY/dyn-CY-2000-2\"\n"
     ]
    },
    {
     "name": "stderr",
     "output_type": "stream",
     "text": [
      "Warning message in dir.create(\"Results\"):\n",
      "“'Results' already exists”\n"
     ]
    },
    {
     "name": "stdout",
     "output_type": "stream",
     "text": [
      "[1] \"./beeline_data/synthetic/dyn-CY/dyn-CY-2000-5\"\n"
     ]
    },
    {
     "name": "stderr",
     "output_type": "stream",
     "text": [
      "Warning message in dir.create(\"Results\"):\n",
      "“'Results' already exists”\n"
     ]
    },
    {
     "name": "stdout",
     "output_type": "stream",
     "text": [
      "[1] \"./beeline_data/synthetic/dyn-CY/dyn-CY-2000-9\"\n"
     ]
    },
    {
     "name": "stderr",
     "output_type": "stream",
     "text": [
      "Warning message in dir.create(\"Results\"):\n",
      "“'Results' already exists”\n"
     ]
    },
    {
     "name": "stdout",
     "output_type": "stream",
     "text": [
      "[1] \"./beeline_data/synthetic/dyn-LI/dyn-LI-2000-5\"\n"
     ]
    },
    {
     "name": "stderr",
     "output_type": "stream",
     "text": [
      "Warning message in ks.test(p1, p2):\n",
      "“cannot compute exact p-value with ties”\n",
      "Warning message in ks.test(p1, p2):\n",
      "“cannot compute exact p-value with ties”\n",
      "Warning message in ks.test(p1, p2):\n",
      "“cannot compute exact p-value with ties”\n",
      "Warning message in dir.create(\"Results\"):\n",
      "“'Results' already exists”\n"
     ]
    },
    {
     "name": "stdout",
     "output_type": "stream",
     "text": [
      "[1] \"./beeline_data/synthetic/dyn-LI/dyn-LI-2000-6\"\n"
     ]
    },
    {
     "name": "stderr",
     "output_type": "stream",
     "text": [
      "Warning message in ks.test(p1, p2):\n",
      "“cannot compute exact p-value with ties”\n",
      "Warning message in ks.test(p1, p2):\n",
      "“cannot compute exact p-value with ties”\n",
      "Warning message in dir.create(\"Results\"):\n",
      "“'Results' already exists”\n"
     ]
    },
    {
     "name": "stdout",
     "output_type": "stream",
     "text": [
      "[1] \"./beeline_data/synthetic/dyn-LI/dyn-LI-5000-9\"\n"
     ]
    },
    {
     "name": "stderr",
     "output_type": "stream",
     "text": [
      "Warning message in ks.test(p1, p2):\n",
      "“cannot compute exact p-value with ties”\n",
      "Warning message in ks.test(p1, p2):\n",
      "“cannot compute exact p-value with ties”\n",
      "Warning message in dir.create(\"Results\"):\n",
      "“'Results' already exists”\n"
     ]
    },
    {
     "name": "stdout",
     "output_type": "stream",
     "text": [
      "[1] \"./beeline_data/synthetic/dyn-LI/dyn-LI-5000-10\"\n"
     ]
    },
    {
     "name": "stderr",
     "output_type": "stream",
     "text": [
      "Warning message in ks.test(p1, p2):\n",
      "“cannot compute exact p-value with ties”\n",
      "Warning message in ks.test(p1, p2):\n",
      "“cannot compute exact p-value with ties”\n",
      "Warning message in ks.test(p1, p2):\n",
      "“cannot compute exact p-value with ties”\n",
      "Warning message in ks.test(p1, p2):\n",
      "“cannot compute exact p-value with ties”\n",
      "Warning message in dir.create(\"Results\"):\n",
      "“'Results' already exists”\n"
     ]
    },
    {
     "name": "stdout",
     "output_type": "stream",
     "text": [
      "[1] \"./beeline_data/synthetic/dyn-LI/dyn-LI-5000-4\"\n"
     ]
    },
    {
     "name": "stderr",
     "output_type": "stream",
     "text": [
      "Warning message in ks.test(p1, p2):\n",
      "“cannot compute exact p-value with ties”\n",
      "Warning message in ks.test(p1, p2):\n",
      "“cannot compute exact p-value with ties”\n",
      "Warning message in ks.test(p1, p2):\n",
      "“cannot compute exact p-value with ties”\n",
      "Warning message in ks.test(p1, p2):\n",
      "“cannot compute exact p-value with ties”\n",
      "Warning message in dir.create(\"Results\"):\n",
      "“'Results' already exists”\n"
     ]
    },
    {
     "name": "stdout",
     "output_type": "stream",
     "text": [
      "[1] \"./beeline_data/synthetic/dyn-LI/dyn-LI-2000-4\"\n"
     ]
    },
    {
     "name": "stderr",
     "output_type": "stream",
     "text": [
      "Warning message in ks.test(p1, p2):\n",
      "“cannot compute exact p-value with ties”\n",
      "Warning message in ks.test(p1, p2):\n",
      "“cannot compute exact p-value with ties”\n",
      "Warning message in ks.test(p1, p2):\n",
      "“cannot compute exact p-value with ties”\n",
      "Warning message in dir.create(\"Results\"):\n",
      "“'Results' already exists”\n"
     ]
    },
    {
     "name": "stdout",
     "output_type": "stream",
     "text": [
      "[1] \"./beeline_data/synthetic/dyn-LI/dyn-LI-2000-7\"\n"
     ]
    },
    {
     "name": "stderr",
     "output_type": "stream",
     "text": [
      "Warning message in ks.test(p1, p2):\n",
      "“cannot compute exact p-value with ties”\n",
      "Warning message in ks.test(p1, p2):\n",
      "“cannot compute exact p-value with ties”\n",
      "Warning message in dir.create(\"Results\"):\n",
      "“'Results' already exists”\n"
     ]
    },
    {
     "name": "stdout",
     "output_type": "stream",
     "text": [
      "[1] \"./beeline_data/synthetic/dyn-LI/dyn-LI-5000-3\"\n"
     ]
    },
    {
     "name": "stderr",
     "output_type": "stream",
     "text": [
      "Warning message in ks.test(p1, p2):\n",
      "“cannot compute exact p-value with ties”\n",
      "Warning message in ks.test(p1, p2):\n",
      "“cannot compute exact p-value with ties”\n",
      "Warning message in ks.test(p1, p2):\n",
      "“cannot compute exact p-value with ties”\n",
      "Warning message in ks.test(p1, p2):\n",
      "“cannot compute exact p-value with ties”\n",
      "Warning message in dir.create(\"Results\"):\n",
      "“'Results' already exists”\n"
     ]
    },
    {
     "name": "stdout",
     "output_type": "stream",
     "text": [
      "[1] \"./beeline_data/synthetic/dyn-LI/dyn-LI-5000-2\"\n"
     ]
    },
    {
     "name": "stderr",
     "output_type": "stream",
     "text": [
      "Warning message in ks.test(p1, p2):\n",
      "“cannot compute exact p-value with ties”\n",
      "Warning message in ks.test(p1, p2):\n",
      "“cannot compute exact p-value with ties”\n",
      "Warning message in ks.test(p1, p2):\n",
      "“cannot compute exact p-value with ties”\n",
      "Warning message in ks.test(p1, p2):\n",
      "“cannot compute exact p-value with ties”\n",
      "Warning message in dir.create(\"Results\"):\n",
      "“'Results' already exists”\n"
     ]
    },
    {
     "name": "stdout",
     "output_type": "stream",
     "text": [
      "[1] \"./beeline_data/synthetic/dyn-LI/dyn-LI-2000-2\"\n"
     ]
    },
    {
     "name": "stderr",
     "output_type": "stream",
     "text": [
      "Warning message in ks.test(p1, p2):\n",
      "“cannot compute exact p-value with ties”\n",
      "Warning message in ks.test(p1, p2):\n",
      "“cannot compute exact p-value with ties”\n",
      "Warning message in ks.test(p1, p2):\n",
      "“cannot compute exact p-value with ties”\n",
      "Warning message in dir.create(\"Results\"):\n",
      "“'Results' already exists”\n"
     ]
    },
    {
     "name": "stdout",
     "output_type": "stream",
     "text": [
      "[1] \"./beeline_data/synthetic/dyn-LI/dyn-LI-2000-10\"\n"
     ]
    },
    {
     "name": "stderr",
     "output_type": "stream",
     "text": [
      "Warning message in dir.create(\"Results\"):\n",
      "“'Results' already exists”\n"
     ]
    },
    {
     "name": "stdout",
     "output_type": "stream",
     "text": [
      "[1] \"./beeline_data/synthetic/dyn-LI/dyn-LI-2000-1\"\n"
     ]
    },
    {
     "name": "stderr",
     "output_type": "stream",
     "text": [
      "Warning message in ks.test(p1, p2):\n",
      "“cannot compute exact p-value with ties”\n",
      "Warning message in dir.create(\"Results\"):\n",
      "“'Results' already exists”\n"
     ]
    },
    {
     "name": "stdout",
     "output_type": "stream",
     "text": [
      "[1] \"./beeline_data/synthetic/dyn-LI/dyn-LI-2000-9\"\n"
     ]
    },
    {
     "name": "stderr",
     "output_type": "stream",
     "text": [
      "Warning message in ks.test(p1, p2):\n",
      "“cannot compute exact p-value with ties”\n",
      "Warning message in ks.test(p1, p2):\n",
      "“cannot compute exact p-value with ties”\n",
      "Warning message in dir.create(\"Results\"):\n",
      "“'Results' already exists”\n"
     ]
    },
    {
     "name": "stdout",
     "output_type": "stream",
     "text": [
      "[1] \"./beeline_data/synthetic/dyn-LI/dyn-LI-5000-6\"\n"
     ]
    },
    {
     "name": "stderr",
     "output_type": "stream",
     "text": [
      "Warning message in ks.test(p1, p2):\n",
      "“cannot compute exact p-value with ties”\n",
      "Warning message in ks.test(p1, p2):\n",
      "“cannot compute exact p-value with ties”\n",
      "Warning message in ks.test(p1, p2):\n",
      "“cannot compute exact p-value with ties”\n",
      "Warning message in ks.test(p1, p2):\n",
      "“cannot compute exact p-value with ties”\n",
      "Warning message in dir.create(\"Results\"):\n",
      "“'Results' already exists”\n"
     ]
    },
    {
     "name": "stdout",
     "output_type": "stream",
     "text": [
      "[1] \"./beeline_data/synthetic/dyn-LI/dyn-LI-2000-8\"\n"
     ]
    },
    {
     "name": "stderr",
     "output_type": "stream",
     "text": [
      "Warning message in dir.create(\"Results\"):\n",
      "“'Results' already exists”\n"
     ]
    },
    {
     "name": "stdout",
     "output_type": "stream",
     "text": [
      "[1] \"./beeline_data/synthetic/dyn-LI/dyn-LI-2000-3\"\n"
     ]
    },
    {
     "name": "stderr",
     "output_type": "stream",
     "text": [
      "Warning message in ks.test(p1, p2):\n",
      "“cannot compute exact p-value with ties”\n",
      "Warning message in ks.test(p1, p2):\n",
      "“cannot compute exact p-value with ties”\n",
      "Warning message in ks.test(p1, p2):\n",
      "“cannot compute exact p-value with ties”\n",
      "Warning message in ks.test(p1, p2):\n",
      "“cannot compute exact p-value with ties”\n",
      "Warning message in ks.test(p1, p2):\n",
      "“cannot compute exact p-value with ties”\n",
      "Warning message in dir.create(\"Results\"):\n",
      "“'Results' already exists”\n"
     ]
    },
    {
     "name": "stdout",
     "output_type": "stream",
     "text": [
      "[1] \"./beeline_data/synthetic/dyn-LI/dyn-LI-5000-1\"\n"
     ]
    },
    {
     "name": "stderr",
     "output_type": "stream",
     "text": [
      "Warning message in ks.test(p1, p2):\n",
      "“cannot compute exact p-value with ties”\n",
      "Warning message in ks.test(p1, p2):\n",
      "“cannot compute exact p-value with ties”\n",
      "Warning message in ks.test(p1, p2):\n",
      "“cannot compute exact p-value with ties”\n",
      "Warning message in ks.test(p1, p2):\n",
      "“cannot compute exact p-value with ties”\n",
      "Warning message in dir.create(\"Results\"):\n",
      "“'Results' already exists”\n"
     ]
    },
    {
     "name": "stdout",
     "output_type": "stream",
     "text": [
      "[1] \"./beeline_data/synthetic/dyn-LI/dyn-LI-5000-7\"\n"
     ]
    },
    {
     "name": "stderr",
     "output_type": "stream",
     "text": [
      "Warning message in ks.test(p1, p2):\n",
      "“cannot compute exact p-value with ties”\n",
      "Warning message in ks.test(p1, p2):\n",
      "“cannot compute exact p-value with ties”\n",
      "Warning message in ks.test(p1, p2):\n",
      "“cannot compute exact p-value with ties”\n",
      "Warning message in dir.create(\"Results\"):\n",
      "“'Results' already exists”\n"
     ]
    },
    {
     "name": "stdout",
     "output_type": "stream",
     "text": [
      "[1] \"./beeline_data/synthetic/dyn-LI/dyn-LI-5000-8\"\n"
     ]
    },
    {
     "name": "stderr",
     "output_type": "stream",
     "text": [
      "Warning message in ks.test(p1, p2):\n",
      "“cannot compute exact p-value with ties”\n",
      "Warning message in ks.test(p1, p2):\n",
      "“cannot compute exact p-value with ties”\n",
      "Warning message in ks.test(p1, p2):\n",
      "“cannot compute exact p-value with ties”\n",
      "Warning message in dir.create(\"Results\"):\n",
      "“'Results' already exists”\n"
     ]
    },
    {
     "name": "stdout",
     "output_type": "stream",
     "text": [
      "[1] \"./beeline_data/synthetic/dyn-LI/dyn-LI-5000-5\"\n"
     ]
    },
    {
     "name": "stderr",
     "output_type": "stream",
     "text": [
      "Warning message in ks.test(p1, p2):\n",
      "“cannot compute exact p-value with ties”\n",
      "Warning message in dir.create(\"Results\"):\n",
      "“'Results' already exists”\n"
     ]
    },
    {
     "name": "stdout",
     "output_type": "stream",
     "text": [
      "[1] \"./beeline_data/synthetic/dyn-LL/dyn-LL-5000-7\"\n"
     ]
    },
    {
     "name": "stderr",
     "output_type": "stream",
     "text": [
      "Warning message in dir.create(\"Results\"):\n",
      "“'Results' already exists”\n"
     ]
    },
    {
     "name": "stdout",
     "output_type": "stream",
     "text": [
      "[1] \"./beeline_data/synthetic/dyn-LL/dyn-LL-2000-4\"\n"
     ]
    },
    {
     "name": "stderr",
     "output_type": "stream",
     "text": [
      "Warning message in dir.create(\"Results\"):\n",
      "“'Results' already exists”\n"
     ]
    },
    {
     "name": "stdout",
     "output_type": "stream",
     "text": [
      "[1] \"./beeline_data/synthetic/dyn-LL/dyn-LL-5000-3\"\n"
     ]
    },
    {
     "name": "stderr",
     "output_type": "stream",
     "text": [
      "Warning message in ks.test(p1, p2):\n",
      "“cannot compute exact p-value with ties”\n",
      "Warning message in ks.test(p1, p2):\n",
      "“cannot compute exact p-value with ties”\n",
      "Warning message in ks.test(p1, p2):\n",
      "“cannot compute exact p-value with ties”\n",
      "Warning message in dir.create(\"Results\"):\n",
      "“'Results' already exists”\n"
     ]
    },
    {
     "name": "stdout",
     "output_type": "stream",
     "text": [
      "[1] \"./beeline_data/synthetic/dyn-LL/dyn-LL-5000-2\"\n"
     ]
    },
    {
     "name": "stderr",
     "output_type": "stream",
     "text": [
      "Warning message in ks.test(p1, p2):\n",
      "“cannot compute exact p-value with ties”\n",
      "Warning message in dir.create(\"Results\"):\n",
      "“'Results' already exists”\n"
     ]
    },
    {
     "name": "stdout",
     "output_type": "stream",
     "text": [
      "[1] \"./beeline_data/synthetic/dyn-LL/dyn-LL-5000-6\"\n"
     ]
    },
    {
     "name": "stderr",
     "output_type": "stream",
     "text": [
      "Warning message in dir.create(\"Results\"):\n",
      "“'Results' already exists”\n"
     ]
    },
    {
     "name": "stdout",
     "output_type": "stream",
     "text": [
      "[1] \"./beeline_data/synthetic/dyn-LL/dyn-LL-2000-7\"\n"
     ]
    },
    {
     "name": "stderr",
     "output_type": "stream",
     "text": [
      "Warning message in ks.test(p1, p2):\n",
      "“cannot compute exact p-value with ties”\n",
      "Warning message in dir.create(\"Results\"):\n",
      "“'Results' already exists”\n"
     ]
    },
    {
     "name": "stdout",
     "output_type": "stream",
     "text": [
      "[1] \"./beeline_data/synthetic/dyn-LL/dyn-LL-5000-8\"\n"
     ]
    },
    {
     "name": "stderr",
     "output_type": "stream",
     "text": [
      "Warning message in ks.test(p1, p2):\n",
      "“cannot compute exact p-value with ties”\n",
      "Warning message in ks.test(p1, p2):\n",
      "“cannot compute exact p-value with ties”\n",
      "Warning message in ks.test(p1, p2):\n",
      "“cannot compute exact p-value with ties”\n",
      "Warning message in ks.test(p1, p2):\n",
      "“cannot compute exact p-value with ties”\n",
      "Warning message in ks.test(p1, p2):\n",
      "“cannot compute exact p-value with ties”\n",
      "Warning message in dir.create(\"Results\"):\n",
      "“'Results' already exists”\n"
     ]
    },
    {
     "name": "stdout",
     "output_type": "stream",
     "text": [
      "[1] \"./beeline_data/synthetic/dyn-LL/dyn-LL-2000-10\"\n"
     ]
    },
    {
     "name": "stderr",
     "output_type": "stream",
     "text": [
      "Warning message in ks.test(p1, p2):\n",
      "“cannot compute exact p-value with ties”\n",
      "Warning message in dir.create(\"Results\"):\n",
      "“'Results' already exists”\n"
     ]
    },
    {
     "name": "stdout",
     "output_type": "stream",
     "text": [
      "[1] \"./beeline_data/synthetic/dyn-LL/dyn-LL-2000-9\"\n"
     ]
    },
    {
     "name": "stderr",
     "output_type": "stream",
     "text": [
      "Warning message in dir.create(\"Results\"):\n",
      "“'Results' already exists”\n"
     ]
    },
    {
     "name": "stdout",
     "output_type": "stream",
     "text": [
      "[1] \"./beeline_data/synthetic/dyn-LL/dyn-LL-2000-1\"\n"
     ]
    },
    {
     "name": "stderr",
     "output_type": "stream",
     "text": [
      "Warning message in dir.create(\"Results\"):\n",
      "“'Results' already exists”\n"
     ]
    },
    {
     "name": "stdout",
     "output_type": "stream",
     "text": [
      "[1] \"./beeline_data/synthetic/dyn-LL/dyn-LL-5000-4\"\n"
     ]
    },
    {
     "name": "stderr",
     "output_type": "stream",
     "text": [
      "Warning message in ks.test(p1, p2):\n",
      "“cannot compute exact p-value with ties”\n",
      "Warning message in ks.test(p1, p2):\n",
      "“cannot compute exact p-value with ties”\n",
      "Warning message in dir.create(\"Results\"):\n",
      "“'Results' already exists”\n"
     ]
    },
    {
     "name": "stdout",
     "output_type": "stream",
     "text": [
      "[1] \"./beeline_data/synthetic/dyn-LL/dyn-LL-2000-6\"\n"
     ]
    },
    {
     "name": "stderr",
     "output_type": "stream",
     "text": [
      "Warning message in dir.create(\"Results\"):\n",
      "“'Results' already exists”\n"
     ]
    },
    {
     "name": "stdout",
     "output_type": "stream",
     "text": [
      "[1] \"./beeline_data/synthetic/dyn-LL/dyn-LL-2000-2\"\n"
     ]
    },
    {
     "name": "stderr",
     "output_type": "stream",
     "text": [
      "Warning message in dir.create(\"Results\"):\n",
      "“'Results' already exists”\n"
     ]
    },
    {
     "name": "stdout",
     "output_type": "stream",
     "text": [
      "[1] \"./beeline_data/synthetic/dyn-LL/dyn-LL-2000-5\"\n"
     ]
    },
    {
     "name": "stderr",
     "output_type": "stream",
     "text": [
      "Warning message in ks.test(p1, p2):\n",
      "“cannot compute exact p-value with ties”\n",
      "Warning message in ks.test(p1, p2):\n",
      "“cannot compute exact p-value with ties”\n",
      "Warning message in dir.create(\"Results\"):\n",
      "“'Results' already exists”\n"
     ]
    },
    {
     "name": "stdout",
     "output_type": "stream",
     "text": [
      "[1] \"./beeline_data/synthetic/dyn-LL/dyn-LL-2000-3\"\n"
     ]
    },
    {
     "name": "stderr",
     "output_type": "stream",
     "text": [
      "Warning message in dir.create(\"Results\"):\n",
      "“'Results' already exists”\n"
     ]
    },
    {
     "name": "stdout",
     "output_type": "stream",
     "text": [
      "[1] \"./beeline_data/synthetic/dyn-LL/dyn-LL-5000-9\"\n"
     ]
    },
    {
     "name": "stderr",
     "output_type": "stream",
     "text": [
      "Warning message in ks.test(p1, p2):\n",
      "“cannot compute exact p-value with ties”\n",
      "Warning message in ks.test(p1, p2):\n",
      "“cannot compute exact p-value with ties”\n",
      "Warning message in ks.test(p1, p2):\n",
      "“cannot compute exact p-value with ties”\n",
      "Warning message in ks.test(p1, p2):\n",
      "“cannot compute exact p-value with ties”\n",
      "Warning message in ks.test(p1, p2):\n",
      "“cannot compute exact p-value with ties”\n",
      "Warning message in dir.create(\"Results\"):\n",
      "“'Results' already exists”\n"
     ]
    },
    {
     "name": "stdout",
     "output_type": "stream",
     "text": [
      "[1] \"./beeline_data/synthetic/dyn-LL/dyn-LL-2000-8\"\n"
     ]
    },
    {
     "name": "stderr",
     "output_type": "stream",
     "text": [
      "Warning message in dir.create(\"Results\"):\n",
      "“'Results' already exists”\n"
     ]
    },
    {
     "name": "stdout",
     "output_type": "stream",
     "text": [
      "[1] \"./beeline_data/synthetic/dyn-LL/dyn-LL-5000-10\"\n"
     ]
    },
    {
     "name": "stderr",
     "output_type": "stream",
     "text": [
      "Warning message in ks.test(p1, p2):\n",
      "“cannot compute exact p-value with ties”\n",
      "Warning message in ks.test(p1, p2):\n",
      "“cannot compute exact p-value with ties”\n",
      "Warning message in ks.test(p1, p2):\n",
      "“cannot compute exact p-value with ties”\n",
      "Warning message in ks.test(p1, p2):\n",
      "“cannot compute exact p-value with ties”\n",
      "Warning message in ks.test(p1, p2):\n",
      "“cannot compute exact p-value with ties”\n",
      "Warning message in ks.test(p1, p2):\n",
      "“cannot compute exact p-value with ties”\n",
      "Warning message in ks.test(p1, p2):\n",
      "“cannot compute exact p-value with ties”\n",
      "Warning message in dir.create(\"Results\"):\n",
      "“'Results' already exists”\n"
     ]
    },
    {
     "name": "stdout",
     "output_type": "stream",
     "text": [
      "[1] \"./beeline_data/synthetic/dyn-LL/dyn-LL-5000-1\"\n"
     ]
    },
    {
     "name": "stderr",
     "output_type": "stream",
     "text": [
      "Warning message in ks.test(p1, p2):\n",
      "“cannot compute exact p-value with ties”\n",
      "Warning message in dir.create(\"Results\"):\n",
      "“'Results' already exists”\n"
     ]
    },
    {
     "name": "stdout",
     "output_type": "stream",
     "text": [
      "[1] \"./beeline_data/synthetic/dyn-LL/dyn-LL-5000-5\"\n"
     ]
    },
    {
     "name": "stderr",
     "output_type": "stream",
     "text": [
      "Warning message in ks.test(p1, p2):\n",
      "“cannot compute exact p-value with ties”\n",
      "Warning message in ks.test(p1, p2):\n",
      "“cannot compute exact p-value with ties”\n",
      "Warning message in ks.test(p1, p2):\n",
      "“cannot compute exact p-value with ties”\n",
      "Warning message in dir.create(\"Results\"):\n",
      "“'Results' already exists”\n"
     ]
    },
    {
     "name": "stdout",
     "output_type": "stream",
     "text": [
      "[1] \"./beeline_data/synthetic/dyn-TF/dyn-TF-5000-4\"\n"
     ]
    },
    {
     "name": "stderr",
     "output_type": "stream",
     "text": [
      "Warning message in ks.test(p1, p2):\n",
      "“cannot compute exact p-value with ties”\n",
      "Warning message in ks.test(p1, p2):\n",
      "“cannot compute exact p-value with ties”\n",
      "Warning message in dir.create(\"Results\"):\n",
      "“'Results' already exists”\n"
     ]
    },
    {
     "name": "stdout",
     "output_type": "stream",
     "text": [
      "[1] \"./beeline_data/synthetic/dyn-TF/dyn-TF-2000-10\"\n"
     ]
    },
    {
     "name": "stderr",
     "output_type": "stream",
     "text": [
      "Warning message in dir.create(\"Results\"):\n",
      "“'Results' already exists”\n"
     ]
    },
    {
     "name": "stdout",
     "output_type": "stream",
     "text": [
      "[1] \"./beeline_data/synthetic/dyn-TF/dyn-TF-2000-5\"\n"
     ]
    },
    {
     "name": "stderr",
     "output_type": "stream",
     "text": [
      "Warning message in dir.create(\"Results\"):\n",
      "“'Results' already exists”\n"
     ]
    },
    {
     "name": "stdout",
     "output_type": "stream",
     "text": [
      "[1] \"./beeline_data/synthetic/dyn-TF/dyn-TF-5000-5\"\n"
     ]
    },
    {
     "name": "stderr",
     "output_type": "stream",
     "text": [
      "Warning message in dir.create(\"Results\"):\n",
      "“'Results' already exists”\n"
     ]
    },
    {
     "name": "stdout",
     "output_type": "stream",
     "text": [
      "[1] \"./beeline_data/synthetic/dyn-TF/dyn-TF-2000-4\"\n"
     ]
    },
    {
     "name": "stderr",
     "output_type": "stream",
     "text": [
      "Warning message in ks.test(p1, p2):\n",
      "“cannot compute exact p-value with ties”\n",
      "Warning message in dir.create(\"Results\"):\n",
      "“'Results' already exists”\n"
     ]
    },
    {
     "name": "stdout",
     "output_type": "stream",
     "text": [
      "[1] \"./beeline_data/synthetic/dyn-TF/dyn-TF-5000-1\"\n"
     ]
    },
    {
     "name": "stderr",
     "output_type": "stream",
     "text": [
      "Warning message in ks.test(p1, p2):\n",
      "“cannot compute exact p-value with ties”\n",
      "Warning message in ks.test(p1, p2):\n",
      "“cannot compute exact p-value with ties”\n",
      "Warning message in ks.test(p1, p2):\n",
      "“cannot compute exact p-value with ties”\n",
      "Warning message in dir.create(\"Results\"):\n",
      "“'Results' already exists”\n"
     ]
    },
    {
     "name": "stdout",
     "output_type": "stream",
     "text": [
      "[1] \"./beeline_data/synthetic/dyn-TF/dyn-TF-5000-8\"\n"
     ]
    },
    {
     "name": "stderr",
     "output_type": "stream",
     "text": [
      "Warning message in dir.create(\"Results\"):\n",
      "“'Results' already exists”\n"
     ]
    },
    {
     "name": "stdout",
     "output_type": "stream",
     "text": [
      "[1] \"./beeline_data/synthetic/dyn-TF/dyn-TF-5000-7\"\n"
     ]
    },
    {
     "name": "stderr",
     "output_type": "stream",
     "text": [
      "Warning message in dir.create(\"Results\"):\n",
      "“'Results' already exists”\n"
     ]
    },
    {
     "name": "stdout",
     "output_type": "stream",
     "text": [
      "[1] \"./beeline_data/synthetic/dyn-TF/dyn-TF-2000-3\"\n"
     ]
    },
    {
     "name": "stderr",
     "output_type": "stream",
     "text": [
      "Warning message in dir.create(\"Results\"):\n",
      "“'Results' already exists”\n"
     ]
    },
    {
     "name": "stdout",
     "output_type": "stream",
     "text": [
      "[1] \"./beeline_data/synthetic/dyn-TF/dyn-TF-2000-1\"\n"
     ]
    },
    {
     "name": "stderr",
     "output_type": "stream",
     "text": [
      "Warning message in ks.test(p1, p2):\n",
      "“cannot compute exact p-value with ties”\n",
      "Warning message in dir.create(\"Results\"):\n",
      "“'Results' already exists”\n"
     ]
    },
    {
     "name": "stdout",
     "output_type": "stream",
     "text": [
      "[1] \"./beeline_data/synthetic/dyn-TF/dyn-TF-5000-6\"\n"
     ]
    },
    {
     "name": "stderr",
     "output_type": "stream",
     "text": [
      "Warning message in ks.test(p1, p2):\n",
      "“cannot compute exact p-value with ties”\n",
      "Warning message in ks.test(p1, p2):\n",
      "“cannot compute exact p-value with ties”\n",
      "Warning message in ks.test(p1, p2):\n",
      "“cannot compute exact p-value with ties”\n",
      "Warning message in dir.create(\"Results\"):\n",
      "“'Results' already exists”\n"
     ]
    },
    {
     "name": "stdout",
     "output_type": "stream",
     "text": [
      "[1] \"./beeline_data/synthetic/dyn-TF/dyn-TF-5000-9\"\n"
     ]
    },
    {
     "name": "stderr",
     "output_type": "stream",
     "text": [
      "Warning message in ks.test(p1, p2):\n",
      "“cannot compute exact p-value with ties”\n",
      "Warning message in ks.test(p1, p2):\n",
      "“cannot compute exact p-value with ties”\n",
      "Warning message in dir.create(\"Results\"):\n",
      "“'Results' already exists”\n"
     ]
    },
    {
     "name": "stdout",
     "output_type": "stream",
     "text": [
      "[1] \"./beeline_data/synthetic/dyn-TF/dyn-TF-5000-2\"\n"
     ]
    },
    {
     "name": "stderr",
     "output_type": "stream",
     "text": [
      "Warning message in dir.create(\"Results\"):\n",
      "“'Results' already exists”\n"
     ]
    },
    {
     "name": "stdout",
     "output_type": "stream",
     "text": [
      "[1] \"./beeline_data/synthetic/dyn-TF/dyn-TF-2000-8\"\n"
     ]
    },
    {
     "name": "stderr",
     "output_type": "stream",
     "text": [
      "Warning message in dir.create(\"Results\"):\n",
      "“'Results' already exists”\n"
     ]
    },
    {
     "name": "stdout",
     "output_type": "stream",
     "text": [
      "[1] \"./beeline_data/synthetic/dyn-TF/dyn-TF-2000-2\"\n"
     ]
    },
    {
     "name": "stderr",
     "output_type": "stream",
     "text": [
      "Warning message in ks.test(p1, p2):\n",
      "“cannot compute exact p-value with ties”\n",
      "Warning message in ks.test(p1, p2):\n",
      "“cannot compute exact p-value with ties”\n",
      "Warning message in dir.create(\"Results\"):\n",
      "“'Results' already exists”\n"
     ]
    },
    {
     "name": "stdout",
     "output_type": "stream",
     "text": [
      "[1] \"./beeline_data/synthetic/dyn-TF/dyn-TF-5000-3\"\n"
     ]
    },
    {
     "name": "stderr",
     "output_type": "stream",
     "text": [
      "Warning message in ks.test(p1, p2):\n",
      "“cannot compute exact p-value with ties”\n",
      "Warning message in dir.create(\"Results\"):\n",
      "“'Results' already exists”\n"
     ]
    },
    {
     "name": "stdout",
     "output_type": "stream",
     "text": [
      "[1] \"./beeline_data/synthetic/dyn-TF/dyn-TF-2000-6\"\n"
     ]
    },
    {
     "name": "stderr",
     "output_type": "stream",
     "text": [
      "Warning message in dir.create(\"Results\"):\n",
      "“'Results' already exists”\n"
     ]
    },
    {
     "name": "stdout",
     "output_type": "stream",
     "text": [
      "[1] \"./beeline_data/synthetic/dyn-TF/dyn-TF-5000-10\"\n"
     ]
    },
    {
     "name": "stderr",
     "output_type": "stream",
     "text": [
      "Warning message in ks.test(p1, p2):\n",
      "“cannot compute exact p-value with ties”\n",
      "Warning message in dir.create(\"Results\"):\n",
      "“'Results' already exists”\n"
     ]
    },
    {
     "name": "stdout",
     "output_type": "stream",
     "text": [
      "[1] \"./beeline_data/synthetic/dyn-TF/dyn-TF-2000-7\"\n"
     ]
    },
    {
     "name": "stderr",
     "output_type": "stream",
     "text": [
      "Warning message in dir.create(\"Results\"):\n",
      "“'Results' already exists”\n"
     ]
    },
    {
     "name": "stdout",
     "output_type": "stream",
     "text": [
      "[1] \"./beeline_data/synthetic/dyn-TF/dyn-TF-2000-9\"\n"
     ]
    },
    {
     "name": "stderr",
     "output_type": "stream",
     "text": [
      "Warning message in dir.create(\"Results\"):\n",
      "“'Results' already exists”\n"
     ]
    }
   ],
   "source": [
    "for (name in names){\n",
    "    \n",
    "    #start time\n",
    "    start_time <- Sys.time()\n",
    "    \n",
    "    base_path <- gsub(\" \", \"\", paste('./beeline_data/synthetic/',name,'/'), fixed=TRUE)\n",
    "    \n",
    "    for (folder in os$listdir(base_path)) {\n",
    "        temp_path <- os$path$join(base_path, folder)\n",
    "        print(temp_path)\n",
    "        if (os$path$isdir(temp_path)){\n",
    "            \n",
    "            #read expression data\n",
    "            expression_path <- os$path$join(temp_path,'ExpressionData.csv')\n",
    "            gem <- read.csv(expression_path)\n",
    "            gem <- t(gem)\n",
    "            colnames(gem) <- gem[1,]\n",
    "            gem <- gem[-1,]\n",
    "            \n",
    "            #read time data\n",
    "            time_path <- os$path$join(temp_path,'PseudoTime.csv')\n",
    "            pseudotime <- read.csv(time_path)\n",
    "            rownames_temp <- pseudotime[,1]\n",
    "            pseudotime <- pseudotime[,-1]\n",
    "            pseudotime <- as.data.frame(pseudotime)\n",
    "            rownames(pseudotime) <- rownames_temp\n",
    "            \n",
    "            #format pseudotime dataframe\n",
    "            pseudotime[is.na(pseudotime)] <- 0\n",
    "            pseudotime <- rowSums(pseudotime, na.rm = FALSE, dims = 1)\n",
    "            pseudotime <- as.data.frame(pseudotime)\n",
    "            \n",
    "            #add time data to the expression dataframe and sort it according\n",
    "            gem <- cbind(gem,pseudotime)\n",
    "            gem <- gem[order(gem$pseudotime),]\n",
    "            gem <- as.data.frame(sapply(gem,as.numeric))\n",
    "            \n",
    "            #SINCERITIES Data Preprocessing\n",
    "            totDATA <- gem[,1:dim(gem)[2]-1]\n",
    "            timeline <- gem[,dim(gem)[2]]\n",
    "            DATA.time <- sort(unique(timeline))\n",
    "            DATA.num_time_points <- length(DATA.time)\n",
    "            DATA.totDATA <- matrix(ncol = dim(gem)[2]-1)\n",
    "            DATA.timeline <- vector()\n",
    "            \n",
    "            for (k in 1:DATA.num_time_points) {\n",
    "                I <- which(timeline==DATA.time[k])\n",
    "                DATA.totDATA <- rbind(DATA.totDATA,as.matrix(totDATA[I,]))\n",
    "                DATA.timeline <- c(DATA.timeline,timeline[I])\n",
    "            }\n",
    "            \n",
    "            DATA.totDATA <- DATA.totDATA[-1,]\n",
    "            DATA.totDATA[is.na(DATA.totDATA)] <- 0\n",
    "            DATA.numGENES <- dim(DATA.totDATA)[2]\n",
    "            DATA.genes <- colnames(gem)[1:dim(gem)[2]-1]\n",
    "            DATA.singleCELLdata <- by(DATA.totDATA,DATA.timeline,identity)\n",
    "            DATA <- list(time=DATA.time,num_time_points=DATA.num_time_points,\n",
    "                         totDATA=DATA.totDATA,timeline=DATA.timeline,numGENES=DATA.numGENES,\n",
    "                         genes=DATA.genes,singleCELLdata=DATA.singleCELLdata)\n",
    "            \n",
    "            #Run SINCERITIES\n",
    "            SINCERITITES <- dget(\"SINCERITIES.R\")\n",
    "            result <- SINCERITITES(DATA,distance=1,method = 1,noDIAG = 0,SIGN = 0)\n",
    "            \n",
    "            adj_matrix <- result$adj_matrix/max(result$adj_matrix)\n",
    "            final_ranked_predictions <- dget(\"final_ranked_predictions.R\")\n",
    "            table <- final_ranked_predictions(adj_matrix,DATA$genes,fileNAME=sprintf(folder),saveFile = TRUE)\n",
    "            \n",
    "            #end time\n",
    "            end_time <- Sys.time()\n",
    "            \n",
    "            times_synthetic <- c(times_synthetic, end_time - start_time)\n",
    "        }\n",
    "    }\n",
    "}"
   ]
  },
  {
   "cell_type": "code",
   "execution_count": 6,
   "id": "43f9d666-084f-4493-abaf-4c75443c5273",
   "metadata": {},
   "outputs": [
    {
     "ename": "ERROR",
     "evalue": "Error in eval(expr, envir, enclos): object 'times_synthetic' not found\n",
     "output_type": "error",
     "traceback": [
      "Error in eval(expr, envir, enclos): object 'times_synthetic' not found\nTraceback:\n"
     ]
    }
   ],
   "source": [
    "times_synthetic"
   ]
  },
  {
   "cell_type": "markdown",
   "id": "1f90d0b5-cd32-41e2-927d-7a6ab2a8fe06",
   "metadata": {},
   "source": [
    "## CURATED DATA"
   ]
  },
  {
   "cell_type": "code",
   "execution_count": null,
   "id": "41b90fe9-4317-4c77-8e27-ea754a82ea8c",
   "metadata": {},
   "outputs": [],
   "source": [
    "times_curated <- c()"
   ]
  },
  {
   "cell_type": "code",
   "execution_count": 8,
   "id": "0ddf5599-5299-44d0-ada0-cc1bf8d1fc12",
   "metadata": {},
   "outputs": [],
   "source": [
    "names <- c('GSD', 'HSC', 'mCAD', 'VSC')"
   ]
  },
  {
   "cell_type": "code",
   "execution_count": 9,
   "id": "a07186bc-9cfc-47ba-b087-3c6b8462e225",
   "metadata": {},
   "outputs": [],
   "source": [
    "names_curated <- c()\n",
    "for (name in names){\n",
    "    base_path <- gsub(\" \", \"\", paste('./beeline_data/curated/',name,'/'), fixed=TRUE)\n",
    "    for (folder in os$listdir(base_path)){\n",
    "        names_curated <- c(names_curated, folder)\n",
    "    }}"
   ]
  },
  {
   "cell_type": "code",
   "execution_count": 10,
   "id": "25e28b2f-9e6a-4a1c-af14-f5776cf9a75a",
   "metadata": {},
   "outputs": [],
   "source": [
    "write(names_curated, \"names_curated.txt\")"
   ]
  },
  {
   "cell_type": "code",
   "execution_count": null,
   "id": "c033491d-e215-445e-b756-a87c2efbb563",
   "metadata": {},
   "outputs": [],
   "source": [
    "for (name in names){\n",
    "    \n",
    "    #start time\n",
    "    start_time <- Sys.time()\n",
    "    \n",
    "    #bases path\n",
    "    base_path <- gsub(\" \", \"\", paste('./beeline_data/curated/',name,'/'), fixed=TRUE)\n",
    "    \n",
    "    #iterate through all the folders\n",
    "    for (folder in os$listdir(base_path)) {\n",
    "        temp_path <- os$path$join(base_path, folder)\n",
    "        print(temp_path)\n",
    "        if (os$path$isdir(temp_path)){\n",
    "            \n",
    "            #read expression data\n",
    "            expression_path <- os$path$join(temp_path,'ExpressionData.csv')\n",
    "            gem <- read.csv(expression_path)\n",
    "            gem <- t(gem)\n",
    "            colnames(gem) <- gem[1,]\n",
    "            gem <- gem[-1,]\n",
    "            \n",
    "            #read time data\n",
    "            time_path <- os$path$join(temp_path,'PseudoTime.csv')\n",
    "            pseudotime <- read.csv(time_path)\n",
    "            rownames_temp <- pseudotime[,1]\n",
    "            pseudotime <- pseudotime[,-1]\n",
    "            pseudotime <- as.data.frame(pseudotime)\n",
    "            rownames(pseudotime) <- rownames_temp\n",
    "            \n",
    "            #format pseudotime dataframe\n",
    "            pseudotime[is.na(pseudotime)] <- 0\n",
    "            pseudotime <- rowSums(pseudotime, na.rm = FALSE, dims = 1)\n",
    "            pseudotime <- as.data.frame(pseudotime)\n",
    "            \n",
    "            #add time data to the expression dataframe and sort it according\n",
    "            gem <- cbind(gem,pseudotime)\n",
    "            gem <- gem[order(gem$pseudotime),]\n",
    "            gem <- as.data.frame(sapply(gem,as.numeric))\n",
    "            \n",
    "            #SINCERITIES Data Preprocessing\n",
    "            totDATA <- gem[,1:dim(gem)[2]-1]\n",
    "            timeline <- gem[,dim(gem)[2]]\n",
    "            DATA.time <- sort(unique(timeline))\n",
    "            DATA.num_time_points <- length(DATA.time)\n",
    "            DATA.totDATA <- matrix(ncol = dim(gem)[2]-1)\n",
    "            DATA.timeline <- vector()\n",
    "            \n",
    "            for (k in 1:DATA.num_time_points) {\n",
    "                I <- which(timeline==DATA.time[k])\n",
    "                DATA.totDATA <- rbind(DATA.totDATA,as.matrix(totDATA[I,]))\n",
    "                DATA.timeline <- c(DATA.timeline,timeline[I])\n",
    "            }\n",
    "            \n",
    "            DATA.totDATA <- DATA.totDATA[-1,]\n",
    "            DATA.totDATA[is.na(DATA.totDATA)] <- 0\n",
    "            DATA.numGENES <- dim(DATA.totDATA)[2]\n",
    "            DATA.genes <- colnames(gem)[1:dim(gem)[2]-1]\n",
    "            DATA.singleCELLdata <- by(DATA.totDATA,DATA.timeline,identity)\n",
    "            DATA <- list(time=DATA.time,num_time_points=DATA.num_time_points,\n",
    "                         totDATA=DATA.totDATA,timeline=DATA.timeline,numGENES=DATA.numGENES,\n",
    "                         genes=DATA.genes,singleCELLdata=DATA.singleCELLdata)\n",
    "            \n",
    "            #Run SINCERITIES\n",
    "            SINCERITITES <- dget(\"SINCERITIES.R\")\n",
    "            result <- SINCERITITES(DATA,distance=1,method = 1,noDIAG = 0,SIGN = 0)\n",
    "            \n",
    "            adj_matrix <- result$adj_matrix/max(result$adj_matrix)\n",
    "            final_ranked_predictions <- dget(\"final_ranked_predictions.R\")\n",
    "            table <- final_ranked_predictions(adj_matrix,DATA$genes,fileNAME=sprintf(folder),saveFile = TRUE)\n",
    "            \n",
    "            #end time\n",
    "            end_time <- Sys.time()\n",
    "            \n",
    "            times_curated <- c(times_curated, end_time - start_time)\n",
    "\n",
    "        }\n",
    "    }\n",
    "}"
   ]
  }
 ],
 "metadata": {
  "kernelspec": {
   "display_name": "R",
   "language": "R",
   "name": "ir"
  },
  "language_info": {
   "codemirror_mode": "r",
   "file_extension": ".r",
   "mimetype": "text/x-r-source",
   "name": "R",
   "pygments_lexer": "r",
   "version": "4.1.0"
  }
 },
 "nbformat": 4,
 "nbformat_minor": 5
}
