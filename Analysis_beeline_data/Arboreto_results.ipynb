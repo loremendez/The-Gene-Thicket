{
 "cells": [
  {
   "cell_type": "code",
   "execution_count": 10,
   "id": "9df9a894-440a-4dc5-8ce0-b24a70ed3081",
   "metadata": {},
   "outputs": [],
   "source": [
    "import os, time\n",
    "import pandas as pd\n",
    "import numpy as np\n",
    "import pickle\n",
    "import seaborn as sns\n",
    "\n",
    "from arboreto.algo import grnboost2, genie3\n",
    "from arboreto.utils import load_tf_names\n",
    "from libs.network_analysis import evaluation"
   ]
  },
  {
   "cell_type": "markdown",
   "id": "255c5db5-c8c6-4bee-9a23-fcfabebb4d62",
   "metadata": {},
   "source": [
    "## Arboreto Results"
   ]
  },
  {
   "cell_type": "code",
   "execution_count": null,
   "id": "ceb01819-d540-4b96-b89d-1089e2794fcb",
   "metadata": {},
   "outputs": [],
   "source": [
    "#save links\n",
    "with open(results_path + 'VSC_links.pickle', 'wb') as handle:\n",
    "    pickle.dump(links, handle, protocol=pickle.HIGHEST_PROTOCOL)"
   ]
  },
  {
   "cell_type": "code",
   "execution_count": 5,
   "id": "b0180482-d0cc-478d-aaab-c4d24b5113b9",
   "metadata": {},
   "outputs": [],
   "source": [
    "#open links\n",
    "with open('./Results_arboreto/genie3/links/mCAD_links.pickle', 'rb') as handle:\n",
    "    mCAD_links = pickle.load(handle)"
   ]
  },
  {
   "cell_type": "code",
   "execution_count": 7,
   "id": "cd09c072-d203-40c4-a033-cce12b163661",
   "metadata": {},
   "outputs": [],
   "source": [
    "mCAD_grn = mCAD_links['mCAD-2000-9-70']"
   ]
  },
  {
   "cell_type": "code",
   "execution_count": 11,
   "id": "4eae2371-3558-4bed-839c-3015cc31bff6",
   "metadata": {},
   "outputs": [
    {
     "data": {
      "text/plain": [
       "<AxesSubplot:xlabel='target', ylabel='TF'>"
      ]
     },
     "execution_count": 11,
     "metadata": {},
     "output_type": "execute_result"
    },
    {
     "data": {
      "image/png": "[encoded data removed]",
      "text/plain": [
       "<Figure size 432x288 with 2 Axes>"
      ]
     },
     "metadata": {
      "needs_background": "light"
     },
     "output_type": "display_data"
    }
   ],
   "source": [
    "temp = pd.pivot_table(mCAD_grn, values='importance', index=['TF'], columns = ['target'], aggfunc=np.sum).fillna(0)\n",
    "sns.heatmap(temp, cmap='viridis', cbar=True, linecolor='k', linewidths=0.1)"
   ]
  }
 ],
 "metadata": {
  "kernelspec": {
   "display_name": "Python 3 (ipykernel)",
   "language": "python",
   "name": "python3"
  },
  "language_info": {
   "codemirror_mode": {
    "name": "ipython",
    "version": 3
   },
   "file_extension": ".py",
   "mimetype": "text/x-python",
   "name": "python",
   "nbconvert_exporter": "python",
   "pygments_lexer": "ipython3",
   "version": "3.9.6"
  }
 },
 "nbformat": 4,
 "nbformat_minor": 5
}
