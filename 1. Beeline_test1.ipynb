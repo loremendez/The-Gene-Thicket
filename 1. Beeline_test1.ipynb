{
 "cells": [
  {
   "cell_type": "code",
   "execution_count": 1,
   "id": "a31b1374",
   "metadata": {},
   "outputs": [],
   "source": [
    "%load_ext autoreload\n",
    "%autoreload 2"
   ]
  },
  {
   "cell_type": "markdown",
   "id": "9f258296-8e92-4730-a9b3-2bc26320c872",
   "metadata": {},
   "source": [
    "# Beeline Test\n",
    "\n",
    "Test of Causal CNN using a curated beeline dataset."
   ]
  },
  {
   "cell_type": "code",
   "execution_count": 2,
   "id": "4878a318",
   "metadata": {},
   "outputs": [],
   "source": [
    "import pickle, torch, json\n",
    "import numpy as np\n",
    "import pandas as pd\n",
    "import seaborn as sns\n",
    "import subprocess\n",
    "import networkx as nx\n",
    "\n",
    "from multiprocessing import cpu_count\n",
    "from runTCDF import runTCDF\n",
    "from network_analysis import plot_graph, scores, plot_scores, plot_cartography"
   ]
  },
  {
   "cell_type": "code",
   "execution_count": 3,
   "id": "0f0e5abd",
   "metadata": {},
   "outputs": [],
   "source": [
    "path = './beeline_data/curated/VSC-2000-1/'"
   ]
  },
  {
   "cell_type": "code",
   "execution_count": 4,
   "id": "b4d52d30",
   "metadata": {},
   "outputs": [],
   "source": [
    "gem = pd.read_csv(path + 'ExpressionData.csv', index_col = 0)\n",
    "pseudotime = pd.read_csv(path + 'PseudoTime.csv', index_col = 0)\n",
    "ref = pd.read_csv(path + 'refNetwork.csv')"
   ]
  },
  {
   "cell_type": "code",
   "execution_count": 5,
   "id": "f463c1f8",
   "metadata": {},
   "outputs": [],
   "source": [
    "pseudo_sort1 = pseudotime.sort_values(by='PseudoTime1') \n",
    "pseudo_cells1 = list(pseudo_sort1[pseudo_sort1['PseudoTime1'].isna() == False].index) #cells order by pseudotime"
   ]
  },
  {
   "cell_type": "code",
   "execution_count": 6,
   "id": "6435dd90",
   "metadata": {},
   "outputs": [],
   "source": [
    "expression_matrix = gem.T.reindex(pseudo_cells1)"
   ]
  },
  {
   "cell_type": "code",
   "execution_count": 7,
   "id": "b742e482",
   "metadata": {},
   "outputs": [
    {
     "data": {
      "text/html": [
       "<div>\n",
       "<style scoped>\n",
       "    .dataframe tbody tr th:only-of-type {\n",
       "        vertical-align: middle;\n",
       "    }\n",
       "\n",
       "    .dataframe tbody tr th {\n",
       "        vertical-align: top;\n",
       "    }\n",
       "\n",
       "    .dataframe thead th {\n",
       "        text-align: right;\n",
       "    }\n",
       "</style>\n",
       "<table border=\"1\" class=\"dataframe\">\n",
       "  <thead>\n",
       "    <tr style=\"text-align: right;\">\n",
       "      <th></th>\n",
       "      <th>Dbx1</th>\n",
       "      <th>Dbx2</th>\n",
       "      <th>Irx3</th>\n",
       "      <th>Nkx22</th>\n",
       "      <th>Nkx61</th>\n",
       "      <th>Nkx62</th>\n",
       "      <th>Olig2</th>\n",
       "      <th>Pax6</th>\n",
       "    </tr>\n",
       "  </thead>\n",
       "  <tbody>\n",
       "    <tr>\n",
       "      <th>E522_1</th>\n",
       "      <td>1.033533</td>\n",
       "      <td>0.907122</td>\n",
       "      <td>0.758465</td>\n",
       "      <td>1.039379</td>\n",
       "      <td>1.015667</td>\n",
       "      <td>1.102170</td>\n",
       "      <td>0.866860</td>\n",
       "      <td>1.163163</td>\n",
       "    </tr>\n",
       "    <tr>\n",
       "      <th>E122_1</th>\n",
       "      <td>0.862777</td>\n",
       "      <td>0.836384</td>\n",
       "      <td>0.913651</td>\n",
       "      <td>0.940329</td>\n",
       "      <td>0.895425</td>\n",
       "      <td>0.850634</td>\n",
       "      <td>1.012994</td>\n",
       "      <td>1.061644</td>\n",
       "    </tr>\n",
       "    <tr>\n",
       "      <th>E1039_1</th>\n",
       "      <td>0.981188</td>\n",
       "      <td>0.880960</td>\n",
       "      <td>0.950827</td>\n",
       "      <td>0.926463</td>\n",
       "      <td>0.988591</td>\n",
       "      <td>1.151053</td>\n",
       "      <td>1.152323</td>\n",
       "      <td>1.200519</td>\n",
       "    </tr>\n",
       "    <tr>\n",
       "      <th>E1499_1</th>\n",
       "      <td>1.085361</td>\n",
       "      <td>0.939220</td>\n",
       "      <td>1.005789</td>\n",
       "      <td>0.924845</td>\n",
       "      <td>0.655055</td>\n",
       "      <td>0.859853</td>\n",
       "      <td>0.995676</td>\n",
       "      <td>0.935665</td>\n",
       "    </tr>\n",
       "    <tr>\n",
       "      <th>E400_2</th>\n",
       "      <td>1.030818</td>\n",
       "      <td>0.893090</td>\n",
       "      <td>0.798885</td>\n",
       "      <td>0.735014</td>\n",
       "      <td>1.106134</td>\n",
       "      <td>0.753199</td>\n",
       "      <td>0.893607</td>\n",
       "      <td>1.044752</td>\n",
       "    </tr>\n",
       "  </tbody>\n",
       "</table>\n",
       "</div>"
      ],
      "text/plain": [
       "             Dbx1      Dbx2      Irx3     Nkx22     Nkx61     Nkx62     Olig2  \\\n",
       "E522_1   1.033533  0.907122  0.758465  1.039379  1.015667  1.102170  0.866860   \n",
       "E122_1   0.862777  0.836384  0.913651  0.940329  0.895425  0.850634  1.012994   \n",
       "E1039_1  0.981188  0.880960  0.950827  0.926463  0.988591  1.151053  1.152323   \n",
       "E1499_1  1.085361  0.939220  1.005789  0.924845  0.655055  0.859853  0.995676   \n",
       "E400_2   1.030818  0.893090  0.798885  0.735014  1.106134  0.753199  0.893607   \n",
       "\n",
       "             Pax6  \n",
       "E522_1   1.163163  \n",
       "E122_1   1.061644  \n",
       "E1039_1  1.200519  \n",
       "E1499_1  0.935665  \n",
       "E400_2   1.044752  "
      ]
     },
     "execution_count": 7,
     "metadata": {},
     "output_type": "execute_result"
    }
   ],
   "source": [
    "expression_matrix.head()"
   ]
  },
  {
   "cell_type": "code",
   "execution_count": 8,
   "id": "f825582b",
   "metadata": {},
   "outputs": [
    {
     "name": "stdout",
     "output_type": "stream",
     "text": [
      "Number of genes:  0 [0%]\n",
      "Number of genes:  1 [12%]\n",
      "Number of genes:  2 [25%]\n",
      "Number of genes:  3 [38%]\n",
      "Number of genes:  4 [50%]\n",
      "Number of genes:  5 [62%]\n",
      "Number of genes:  6 [75%]\n",
      "Number of genes:  7 [88%]\n"
     ]
    }
   ],
   "source": [
    "links = runTCDF(expression_matrix, cuda=True, significance=0.8, log_interval=1)"
   ]
  },
  {
   "cell_type": "code",
   "execution_count": 9,
   "id": "14e3f66e",
   "metadata": {},
   "outputs": [],
   "source": [
    "expression_matrix['time'] = pseudo_sort1[pseudo_sort1['PseudoTime1'].isna() == False]['PseudoTime1']"
   ]
  },
  {
   "cell_type": "code",
   "execution_count": 10,
   "id": "df7386c9",
   "metadata": {},
   "outputs": [
    {
     "data": {
      "text/html": [
       "<div>\n",
       "<style scoped>\n",
       "    .dataframe tbody tr th:only-of-type {\n",
       "        vertical-align: middle;\n",
       "    }\n",
       "\n",
       "    .dataframe tbody tr th {\n",
       "        vertical-align: top;\n",
       "    }\n",
       "\n",
       "    .dataframe thead th {\n",
       "        text-align: right;\n",
       "    }\n",
       "</style>\n",
       "<table border=\"1\" class=\"dataframe\">\n",
       "  <thead>\n",
       "    <tr style=\"text-align: right;\">\n",
       "      <th></th>\n",
       "      <th>Dbx1</th>\n",
       "      <th>Dbx2</th>\n",
       "      <th>Irx3</th>\n",
       "      <th>Nkx22</th>\n",
       "      <th>Nkx61</th>\n",
       "      <th>Nkx62</th>\n",
       "      <th>Olig2</th>\n",
       "      <th>Pax6</th>\n",
       "      <th>time</th>\n",
       "    </tr>\n",
       "  </thead>\n",
       "  <tbody>\n",
       "    <tr>\n",
       "      <th>E522_1</th>\n",
       "      <td>1.033533</td>\n",
       "      <td>0.907122</td>\n",
       "      <td>0.758465</td>\n",
       "      <td>1.039379</td>\n",
       "      <td>1.015667</td>\n",
       "      <td>1.102170</td>\n",
       "      <td>0.866860</td>\n",
       "      <td>1.163163</td>\n",
       "      <td>0.00000</td>\n",
       "    </tr>\n",
       "    <tr>\n",
       "      <th>E122_1</th>\n",
       "      <td>0.862777</td>\n",
       "      <td>0.836384</td>\n",
       "      <td>0.913651</td>\n",
       "      <td>0.940329</td>\n",
       "      <td>0.895425</td>\n",
       "      <td>0.850634</td>\n",
       "      <td>1.012994</td>\n",
       "      <td>1.061644</td>\n",
       "      <td>0.00000</td>\n",
       "    </tr>\n",
       "    <tr>\n",
       "      <th>E1039_1</th>\n",
       "      <td>0.981188</td>\n",
       "      <td>0.880960</td>\n",
       "      <td>0.950827</td>\n",
       "      <td>0.926463</td>\n",
       "      <td>0.988591</td>\n",
       "      <td>1.151053</td>\n",
       "      <td>1.152323</td>\n",
       "      <td>1.200519</td>\n",
       "      <td>0.00000</td>\n",
       "    </tr>\n",
       "    <tr>\n",
       "      <th>E1499_1</th>\n",
       "      <td>1.085361</td>\n",
       "      <td>0.939220</td>\n",
       "      <td>1.005789</td>\n",
       "      <td>0.924845</td>\n",
       "      <td>0.655055</td>\n",
       "      <td>0.859853</td>\n",
       "      <td>0.995676</td>\n",
       "      <td>0.935665</td>\n",
       "      <td>0.00000</td>\n",
       "    </tr>\n",
       "    <tr>\n",
       "      <th>E400_2</th>\n",
       "      <td>1.030818</td>\n",
       "      <td>0.893090</td>\n",
       "      <td>0.798885</td>\n",
       "      <td>0.735014</td>\n",
       "      <td>1.106134</td>\n",
       "      <td>0.753199</td>\n",
       "      <td>0.893607</td>\n",
       "      <td>1.044752</td>\n",
       "      <td>0.00201</td>\n",
       "    </tr>\n",
       "  </tbody>\n",
       "</table>\n",
       "</div>"
      ],
      "text/plain": [
       "             Dbx1      Dbx2      Irx3     Nkx22     Nkx61     Nkx62     Olig2  \\\n",
       "E522_1   1.033533  0.907122  0.758465  1.039379  1.015667  1.102170  0.866860   \n",
       "E122_1   0.862777  0.836384  0.913651  0.940329  0.895425  0.850634  1.012994   \n",
       "E1039_1  0.981188  0.880960  0.950827  0.926463  0.988591  1.151053  1.152323   \n",
       "E1499_1  1.085361  0.939220  1.005789  0.924845  0.655055  0.859853  0.995676   \n",
       "E400_2   1.030818  0.893090  0.798885  0.735014  1.106134  0.753199  0.893607   \n",
       "\n",
       "             Pax6     time  \n",
       "E522_1   1.163163  0.00000  \n",
       "E122_1   1.061644  0.00000  \n",
       "E1039_1  1.200519  0.00000  \n",
       "E1499_1  0.935665  0.00000  \n",
       "E400_2   1.044752  0.00201  "
      ]
     },
     "execution_count": 10,
     "metadata": {},
     "output_type": "execute_result"
    }
   ],
   "source": [
    "expression_matrix.head()"
   ]
  },
  {
   "cell_type": "code",
   "execution_count": 11,
   "id": "7fd4ade2",
   "metadata": {},
   "outputs": [
    {
     "data": {
      "text/plain": [
       "<AxesSubplot:xlabel='time', ylabel='Dbx2'>"
      ]
     },
     "execution_count": 11,
     "metadata": {},
     "output_type": "execute_result"
    },
    {
     "data": {
      "image/png": "[encoded data removed]",
      "text/plain": [
       "<Figure size 432x288 with 1 Axes>"
      ]
     },
     "metadata": {
      "needs_background": "light"
     },
     "output_type": "display_data"
    }
   ],
   "source": [
    "sns.scatterplot(data=expression_matrix, x='time', y='Dbx2')"
   ]
  },
  {
   "cell_type": "code",
   "execution_count": 12,
   "id": "0b62eb89",
   "metadata": {},
   "outputs": [
    {
     "data": {
      "text/plain": [
       "<AxesSubplot:xlabel='time', ylabel='Dbx1'>"
      ]
     },
     "execution_count": 12,
     "metadata": {},
     "output_type": "execute_result"
    },
    {
     "data": {
      "image/png": "[encoded data removed]",
      "text/plain": [
       "<Figure size 432x288 with 1 Axes>"
      ]
     },
     "metadata": {
      "needs_background": "light"
     },
     "output_type": "display_data"
    }
   ],
   "source": [
    "sns.scatterplot(data=expression_matrix, x='time', y='Dbx1')"
   ]
  },
  {
   "cell_type": "code",
   "execution_count": 13,
   "id": "ddeafcef",
   "metadata": {},
   "outputs": [
    {
     "data": {
      "text/plain": [
       "<AxesSubplot:xlabel='Dbx1', ylabel='Nkx62'>"
      ]
     },
     "execution_count": 13,
     "metadata": {},
     "output_type": "execute_result"
    },
    {
     "data": {
      "image/png": "[encoded data removed]",
      "text/plain": [
       "<Figure size 432x288 with 1 Axes>"
      ]
     },
     "metadata": {
      "needs_background": "light"
     },
     "output_type": "display_data"
    }
   ],
   "source": [
    "sns.scatterplot(data=gem.T, x='Dbx1', y='Nkx62')"
   ]
  },
  {
   "cell_type": "code",
   "execution_count": 14,
   "id": "03687318",
   "metadata": {},
   "outputs": [
    {
     "data": {
      "text/plain": [
       "0.6164926227483747"
      ]
     },
     "execution_count": 14,
     "metadata": {},
     "output_type": "execute_result"
    }
   ],
   "source": [
    "np.corrcoef(expression_matrix['Dbx1'], expression_matrix['Nkx62'])[0][1]"
   ]
  },
  {
   "cell_type": "code",
   "execution_count": 15,
   "id": "ceed75a4-1f82-4756-a14c-ba8b3ad9d432",
   "metadata": {},
   "outputs": [
    {
     "data": {
      "text/html": [
       "<div>\n",
       "<style scoped>\n",
       "    .dataframe tbody tr th:only-of-type {\n",
       "        vertical-align: middle;\n",
       "    }\n",
       "\n",
       "    .dataframe tbody tr th {\n",
       "        vertical-align: top;\n",
       "    }\n",
       "\n",
       "    .dataframe thead th {\n",
       "        text-align: right;\n",
       "    }\n",
       "</style>\n",
       "<table border=\"1\" class=\"dataframe\">\n",
       "  <thead>\n",
       "    <tr style=\"text-align: right;\">\n",
       "      <th></th>\n",
       "      <th>TF</th>\n",
       "      <th>importance</th>\n",
       "      <th>target</th>\n",
       "    </tr>\n",
       "  </thead>\n",
       "  <tbody>\n",
       "    <tr>\n",
       "      <th>0</th>\n",
       "      <td>Dbx2</td>\n",
       "      <td>1.872656</td>\n",
       "      <td>Dbx1</td>\n",
       "    </tr>\n",
       "    <tr>\n",
       "      <th>0</th>\n",
       "      <td>Irx3</td>\n",
       "      <td>1.976347</td>\n",
       "      <td>Dbx2</td>\n",
       "    </tr>\n",
       "    <tr>\n",
       "      <th>0</th>\n",
       "      <td>Dbx2</td>\n",
       "      <td>2.972033</td>\n",
       "      <td>Irx3</td>\n",
       "    </tr>\n",
       "    <tr>\n",
       "      <th>0</th>\n",
       "      <td>Pax6</td>\n",
       "      <td>1.783372</td>\n",
       "      <td>Nkx22</td>\n",
       "    </tr>\n",
       "    <tr>\n",
       "      <th>1</th>\n",
       "      <td>Olig2</td>\n",
       "      <td>1.762059</td>\n",
       "      <td>Nkx22</td>\n",
       "    </tr>\n",
       "    <tr>\n",
       "      <th>0</th>\n",
       "      <td>Dbx2</td>\n",
       "      <td>2.050405</td>\n",
       "      <td>Nkx62</td>\n",
       "    </tr>\n",
       "    <tr>\n",
       "      <th>1</th>\n",
       "      <td>Dbx1</td>\n",
       "      <td>1.534238</td>\n",
       "      <td>Nkx62</td>\n",
       "    </tr>\n",
       "  </tbody>\n",
       "</table>\n",
       "</div>"
      ],
      "text/plain": [
       "      TF  importance target\n",
       "0   Dbx2    1.872656   Dbx1\n",
       "0   Irx3    1.976347   Dbx2\n",
       "0   Dbx2    2.972033   Irx3\n",
       "0   Pax6    1.783372  Nkx22\n",
       "1  Olig2    1.762059  Nkx22\n",
       "0   Dbx2    2.050405  Nkx62\n",
       "1   Dbx1    1.534238  Nkx62"
      ]
     },
     "execution_count": 15,
     "metadata": {},
     "output_type": "execute_result"
    }
   ],
   "source": [
    "links"
   ]
  },
  {
   "cell_type": "code",
   "execution_count": 16,
   "id": "60db8474-f109-4604-8c9f-89289232123c",
   "metadata": {},
   "outputs": [
    {
     "data": {
      "text/html": [
       "<div>\n",
       "<style scoped>\n",
       "    .dataframe tbody tr th:only-of-type {\n",
       "        vertical-align: middle;\n",
       "    }\n",
       "\n",
       "    .dataframe tbody tr th {\n",
       "        vertical-align: top;\n",
       "    }\n",
       "\n",
       "    .dataframe thead th {\n",
       "        text-align: right;\n",
       "    }\n",
       "</style>\n",
       "<table border=\"1\" class=\"dataframe\">\n",
       "  <thead>\n",
       "    <tr style=\"text-align: right;\">\n",
       "      <th></th>\n",
       "      <th>genes</th>\n",
       "      <th>eigenvector_centrality</th>\n",
       "      <th>betweenness_centrality</th>\n",
       "      <th>closeness_centrality</th>\n",
       "      <th>in_degree_centrality</th>\n",
       "      <th>out_degree_centrality</th>\n",
       "      <th>all_degree_centrality</th>\n",
       "      <th>degree_out</th>\n",
       "      <th>degree_in</th>\n",
       "      <th>degree_all</th>\n",
       "      <th>z_scores</th>\n",
       "      <th>membership</th>\n",
       "      <th>participation</th>\n",
       "      <th>classification</th>\n",
       "    </tr>\n",
       "  </thead>\n",
       "  <tbody>\n",
       "    <tr>\n",
       "      <th>0</th>\n",
       "      <td>Dbx1</td>\n",
       "      <td>3.779645e-01</td>\n",
       "      <td>0.000000</td>\n",
       "      <td>0.222222</td>\n",
       "      <td>0.166667</td>\n",
       "      <td>0.166667</td>\n",
       "      <td>0.333333</td>\n",
       "      <td>1</td>\n",
       "      <td>1</td>\n",
       "      <td>2</td>\n",
       "      <td>-0.577350</td>\n",
       "      <td>0</td>\n",
       "      <td>0.7500</td>\n",
       "      <td>R2: Peripheral</td>\n",
       "    </tr>\n",
       "    <tr>\n",
       "      <th>1</th>\n",
       "      <td>Dbx2</td>\n",
       "      <td>3.779645e-01</td>\n",
       "      <td>0.066667</td>\n",
       "      <td>0.166667</td>\n",
       "      <td>0.166667</td>\n",
       "      <td>0.500000</td>\n",
       "      <td>0.666667</td>\n",
       "      <td>3</td>\n",
       "      <td>1</td>\n",
       "      <td>4</td>\n",
       "      <td>1.732051</td>\n",
       "      <td>0</td>\n",
       "      <td>0.4375</td>\n",
       "      <td>R2: Peripheral</td>\n",
       "    </tr>\n",
       "    <tr>\n",
       "      <th>2</th>\n",
       "      <td>Irx3</td>\n",
       "      <td>3.779645e-01</td>\n",
       "      <td>0.000000</td>\n",
       "      <td>0.166667</td>\n",
       "      <td>0.166667</td>\n",
       "      <td>0.166667</td>\n",
       "      <td>0.333333</td>\n",
       "      <td>1</td>\n",
       "      <td>1</td>\n",
       "      <td>2</td>\n",
       "      <td>-0.577350</td>\n",
       "      <td>0</td>\n",
       "      <td>0.7500</td>\n",
       "      <td>R2: Peripheral</td>\n",
       "    </tr>\n",
       "    <tr>\n",
       "      <th>3</th>\n",
       "      <td>Nkx22</td>\n",
       "      <td>4.055119e-06</td>\n",
       "      <td>0.000000</td>\n",
       "      <td>0.333333</td>\n",
       "      <td>0.333333</td>\n",
       "      <td>0.000000</td>\n",
       "      <td>0.333333</td>\n",
       "      <td>0</td>\n",
       "      <td>2</td>\n",
       "      <td>2</td>\n",
       "      <td>1.414214</td>\n",
       "      <td>1</td>\n",
       "      <td>1.0000</td>\n",
       "      <td>R2: Peripheral</td>\n",
       "    </tr>\n",
       "    <tr>\n",
       "      <th>4</th>\n",
       "      <td>Nkx62</td>\n",
       "      <td>7.559289e-01</td>\n",
       "      <td>0.000000</td>\n",
       "      <td>0.375000</td>\n",
       "      <td>0.333333</td>\n",
       "      <td>0.000000</td>\n",
       "      <td>0.333333</td>\n",
       "      <td>0</td>\n",
       "      <td>2</td>\n",
       "      <td>2</td>\n",
       "      <td>-0.577350</td>\n",
       "      <td>0</td>\n",
       "      <td>1.0000</td>\n",
       "      <td>R2: Peripheral</td>\n",
       "    </tr>\n",
       "    <tr>\n",
       "      <th>5</th>\n",
       "      <td>Olig2</td>\n",
       "      <td>9.011376e-08</td>\n",
       "      <td>0.000000</td>\n",
       "      <td>0.000000</td>\n",
       "      <td>0.000000</td>\n",
       "      <td>0.166667</td>\n",
       "      <td>0.166667</td>\n",
       "      <td>1</td>\n",
       "      <td>0</td>\n",
       "      <td>1</td>\n",
       "      <td>-0.707107</td>\n",
       "      <td>1</td>\n",
       "      <td>0.0000</td>\n",
       "      <td>R1: Ultra-peripheral</td>\n",
       "    </tr>\n",
       "    <tr>\n",
       "      <th>6</th>\n",
       "      <td>Pax6</td>\n",
       "      <td>9.011376e-08</td>\n",
       "      <td>0.000000</td>\n",
       "      <td>0.000000</td>\n",
       "      <td>0.000000</td>\n",
       "      <td>0.166667</td>\n",
       "      <td>0.166667</td>\n",
       "      <td>1</td>\n",
       "      <td>0</td>\n",
       "      <td>1</td>\n",
       "      <td>-0.707107</td>\n",
       "      <td>1</td>\n",
       "      <td>0.0000</td>\n",
       "      <td>R1: Ultra-peripheral</td>\n",
       "    </tr>\n",
       "  </tbody>\n",
       "</table>\n",
       "</div>"
      ],
      "text/plain": [
       "   genes  eigenvector_centrality  betweenness_centrality  \\\n",
       "0   Dbx1            3.779645e-01                0.000000   \n",
       "1   Dbx2            3.779645e-01                0.066667   \n",
       "2   Irx3            3.779645e-01                0.000000   \n",
       "3  Nkx22            4.055119e-06                0.000000   \n",
       "4  Nkx62            7.559289e-01                0.000000   \n",
       "5  Olig2            9.011376e-08                0.000000   \n",
       "6   Pax6            9.011376e-08                0.000000   \n",
       "\n",
       "   closeness_centrality  in_degree_centrality  out_degree_centrality  \\\n",
       "0              0.222222              0.166667               0.166667   \n",
       "1              0.166667              0.166667               0.500000   \n",
       "2              0.166667              0.166667               0.166667   \n",
       "3              0.333333              0.333333               0.000000   \n",
       "4              0.375000              0.333333               0.000000   \n",
       "5              0.000000              0.000000               0.166667   \n",
       "6              0.000000              0.000000               0.166667   \n",
       "\n",
       "   all_degree_centrality  degree_out  degree_in  degree_all  z_scores  \\\n",
       "0               0.333333           1          1           2 -0.577350   \n",
       "1               0.666667           3          1           4  1.732051   \n",
       "2               0.333333           1          1           2 -0.577350   \n",
       "3               0.333333           0          2           2  1.414214   \n",
       "4               0.333333           0          2           2 -0.577350   \n",
       "5               0.166667           1          0           1 -0.707107   \n",
       "6               0.166667           1          0           1 -0.707107   \n",
       "\n",
       "   membership  participation        classification  \n",
       "0           0         0.7500        R2: Peripheral  \n",
       "1           0         0.4375        R2: Peripheral  \n",
       "2           0         0.7500        R2: Peripheral  \n",
       "3           1         1.0000        R2: Peripheral  \n",
       "4           0         1.0000        R2: Peripheral  \n",
       "5           1         0.0000  R1: Ultra-peripheral  \n",
       "6           1         0.0000  R1: Ultra-peripheral  "
      ]
     },
     "execution_count": 16,
     "metadata": {},
     "output_type": "execute_result"
    }
   ],
   "source": [
    "scores(links[[\"TF\", \"target\"]])"
   ]
  },
  {
   "cell_type": "code",
   "execution_count": 17,
   "id": "6457f627-91ff-4067-b14f-920ad21c7a5b",
   "metadata": {},
   "outputs": [
    {
     "data": {
      "image/png": "[encoded data removed]",
      "text/plain": [
       "<Figure size 1080x576 with 6 Axes>"
      ]
     },
     "metadata": {
      "needs_background": "light"
     },
     "output_type": "display_data"
    }
   ],
   "source": [
    "plot_scores(scores(links[[\"TF\", \"target\"]]))"
   ]
  },
  {
   "cell_type": "code",
   "execution_count": 19,
   "id": "c8339a27-6900-4f86-b756-5020f61830cd",
   "metadata": {},
   "outputs": [
    {
     "data": {
      "image/png": "[encoded data removed]",
      "text/plain": [
       "<Figure size 432x288 with 1 Axes>"
      ]
     },
     "metadata": {
      "needs_background": "light"
     },
     "output_type": "display_data"
    }
   ],
   "source": [
    "plot_cartography(scores(links[[\"TF\", \"target\"]]), highlight_genes=['Pax6', 'Dbx2'])"
   ]
  },
  {
   "cell_type": "code",
   "execution_count": 18,
   "id": "19f56ebe-89b6-4736-82ea-84c35f4cecbf",
   "metadata": {},
   "outputs": [
    {
     "data": {
      "image/png": "[encoded data removed]",
      "text/plain": [
       "<Figure size 360x360 with 1 Axes>"
      ]
     },
     "metadata": {},
     "output_type": "display_data"
    }
   ],
   "source": [
    "plot_graph(links, type=\"links\")"
   ]
  },
  {
   "cell_type": "code",
   "execution_count": 19,
   "id": "59ba3635",
   "metadata": {},
   "outputs": [
    {
     "data": {
      "text/html": [
       "<div>\n",
       "<style scoped>\n",
       "    .dataframe tbody tr th:only-of-type {\n",
       "        vertical-align: middle;\n",
       "    }\n",
       "\n",
       "    .dataframe tbody tr th {\n",
       "        vertical-align: top;\n",
       "    }\n",
       "\n",
       "    .dataframe thead th {\n",
       "        text-align: right;\n",
       "    }\n",
       "</style>\n",
       "<table border=\"1\" class=\"dataframe\">\n",
       "  <thead>\n",
       "    <tr style=\"text-align: right;\">\n",
       "      <th></th>\n",
       "      <th>Gene1</th>\n",
       "      <th>Gene2</th>\n",
       "      <th>Type</th>\n",
       "    </tr>\n",
       "  </thead>\n",
       "  <tbody>\n",
       "    <tr>\n",
       "      <th>0</th>\n",
       "      <td>Nkx22</td>\n",
       "      <td>Pax6</td>\n",
       "      <td>-</td>\n",
       "    </tr>\n",
       "    <tr>\n",
       "      <th>1</th>\n",
       "      <td>Nkx61</td>\n",
       "      <td>Nkx62</td>\n",
       "      <td>-</td>\n",
       "    </tr>\n",
       "    <tr>\n",
       "      <th>2</th>\n",
       "      <td>Dbx1</td>\n",
       "      <td>Nkx62</td>\n",
       "      <td>-</td>\n",
       "    </tr>\n",
       "    <tr>\n",
       "      <th>3</th>\n",
       "      <td>Irx3</td>\n",
       "      <td>Olig2</td>\n",
       "      <td>-</td>\n",
       "    </tr>\n",
       "    <tr>\n",
       "      <th>4</th>\n",
       "      <td>Nkx22</td>\n",
       "      <td>Olig2</td>\n",
       "      <td>-</td>\n",
       "    </tr>\n",
       "    <tr>\n",
       "      <th>5</th>\n",
       "      <td>Nkx62</td>\n",
       "      <td>Dbx1</td>\n",
       "      <td>-</td>\n",
       "    </tr>\n",
       "    <tr>\n",
       "      <th>6</th>\n",
       "      <td>Nkx61</td>\n",
       "      <td>Dbx1</td>\n",
       "      <td>-</td>\n",
       "    </tr>\n",
       "    <tr>\n",
       "      <th>7</th>\n",
       "      <td>Nkx61</td>\n",
       "      <td>Dbx2</td>\n",
       "      <td>-</td>\n",
       "    </tr>\n",
       "    <tr>\n",
       "      <th>8</th>\n",
       "      <td>Olig2</td>\n",
       "      <td>Dbx2</td>\n",
       "      <td>-</td>\n",
       "    </tr>\n",
       "    <tr>\n",
       "      <th>9</th>\n",
       "      <td>Nkx22</td>\n",
       "      <td>Dbx2</td>\n",
       "      <td>-</td>\n",
       "    </tr>\n",
       "    <tr>\n",
       "      <th>10</th>\n",
       "      <td>Dbx2</td>\n",
       "      <td>Nkx61</td>\n",
       "      <td>-</td>\n",
       "    </tr>\n",
       "    <tr>\n",
       "      <th>11</th>\n",
       "      <td>Pax6</td>\n",
       "      <td>Nkx22</td>\n",
       "      <td>-</td>\n",
       "    </tr>\n",
       "    <tr>\n",
       "      <th>12</th>\n",
       "      <td>Dbx2</td>\n",
       "      <td>Nkx22</td>\n",
       "      <td>-</td>\n",
       "    </tr>\n",
       "    <tr>\n",
       "      <th>13</th>\n",
       "      <td>Olig2</td>\n",
       "      <td>Irx3</td>\n",
       "      <td>-</td>\n",
       "    </tr>\n",
       "    <tr>\n",
       "      <th>14</th>\n",
       "      <td>Nkx22</td>\n",
       "      <td>Irx3</td>\n",
       "      <td>-</td>\n",
       "    </tr>\n",
       "  </tbody>\n",
       "</table>\n",
       "</div>"
      ],
      "text/plain": [
       "    Gene1  Gene2 Type\n",
       "0   Nkx22   Pax6    -\n",
       "1   Nkx61  Nkx62    -\n",
       "2    Dbx1  Nkx62    -\n",
       "3    Irx3  Olig2    -\n",
       "4   Nkx22  Olig2    -\n",
       "5   Nkx62   Dbx1    -\n",
       "6   Nkx61   Dbx1    -\n",
       "7   Nkx61   Dbx2    -\n",
       "8   Olig2   Dbx2    -\n",
       "9   Nkx22   Dbx2    -\n",
       "10   Dbx2  Nkx61    -\n",
       "11   Pax6  Nkx22    -\n",
       "12   Dbx2  Nkx22    -\n",
       "13  Olig2   Irx3    -\n",
       "14  Nkx22   Irx3    -"
      ]
     },
     "execution_count": 19,
     "metadata": {},
     "output_type": "execute_result"
    }
   ],
   "source": [
    "ref"
   ]
  },
  {
   "cell_type": "code",
   "execution_count": 68,
   "id": "2ba6d3eb-da3e-46f8-8d25-8fc5b36a7d5c",
   "metadata": {},
   "outputs": [
    {
     "data": {
      "text/html": [
       "<div>\n",
       "<style scoped>\n",
       "    .dataframe tbody tr th:only-of-type {\n",
       "        vertical-align: middle;\n",
       "    }\n",
       "\n",
       "    .dataframe tbody tr th {\n",
       "        vertical-align: top;\n",
       "    }\n",
       "\n",
       "    .dataframe thead th {\n",
       "        text-align: right;\n",
       "    }\n",
       "</style>\n",
       "<table border=\"1\" class=\"dataframe\">\n",
       "  <thead>\n",
       "    <tr style=\"text-align: right;\">\n",
       "      <th></th>\n",
       "      <th>genes</th>\n",
       "      <th>eigenvector_centrality</th>\n",
       "      <th>betweenness_centrality</th>\n",
       "      <th>closeness_centrality</th>\n",
       "      <th>in_degree_centrality</th>\n",
       "      <th>out_degree_centrality</th>\n",
       "      <th>all_degree_centrality</th>\n",
       "      <th>degree_out</th>\n",
       "      <th>degree_in</th>\n",
       "      <th>degree_all</th>\n",
       "      <th>z_scores</th>\n",
       "      <th>membership</th>\n",
       "      <th>participation</th>\n",
       "      <th>classification</th>\n",
       "    </tr>\n",
       "  </thead>\n",
       "  <tbody>\n",
       "    <tr>\n",
       "      <th>0</th>\n",
       "      <td>Dbx1</td>\n",
       "      <td>0.287703</td>\n",
       "      <td>0.000000</td>\n",
       "      <td>0.388889</td>\n",
       "      <td>0.285714</td>\n",
       "      <td>0.142857</td>\n",
       "      <td>0.428571</td>\n",
       "      <td>1</td>\n",
       "      <td>2</td>\n",
       "      <td>3</td>\n",
       "      <td>0.707107</td>\n",
       "      <td>1</td>\n",
       "      <td>0.888889</td>\n",
       "      <td>R2: Peripheral</td>\n",
       "    </tr>\n",
       "    <tr>\n",
       "      <th>1</th>\n",
       "      <td>Dbx2</td>\n",
       "      <td>0.530711</td>\n",
       "      <td>0.476190</td>\n",
       "      <td>0.510204</td>\n",
       "      <td>0.428571</td>\n",
       "      <td>0.285714</td>\n",
       "      <td>0.714286</td>\n",
       "      <td>2</td>\n",
       "      <td>3</td>\n",
       "      <td>4</td>\n",
       "      <td>-0.442326</td>\n",
       "      <td>0</td>\n",
       "      <td>0.920000</td>\n",
       "      <td>R2: Peripheral</td>\n",
       "    </tr>\n",
       "    <tr>\n",
       "      <th>2</th>\n",
       "      <td>Irx3</td>\n",
       "      <td>0.390752</td>\n",
       "      <td>0.000000</td>\n",
       "      <td>0.396825</td>\n",
       "      <td>0.285714</td>\n",
       "      <td>0.142857</td>\n",
       "      <td>0.428571</td>\n",
       "      <td>1</td>\n",
       "      <td>2</td>\n",
       "      <td>3</td>\n",
       "      <td>-0.442326</td>\n",
       "      <td>0</td>\n",
       "      <td>0.888889</td>\n",
       "      <td>R2: Peripheral</td>\n",
       "    </tr>\n",
       "    <tr>\n",
       "      <th>3</th>\n",
       "      <td>Nkx22</td>\n",
       "      <td>0.370155</td>\n",
       "      <td>0.333333</td>\n",
       "      <td>0.396825</td>\n",
       "      <td>0.285714</td>\n",
       "      <td>0.571429</td>\n",
       "      <td>0.857143</td>\n",
       "      <td>4</td>\n",
       "      <td>2</td>\n",
       "      <td>6</td>\n",
       "      <td>1.769303</td>\n",
       "      <td>0</td>\n",
       "      <td>0.555556</td>\n",
       "      <td>R2: Peripheral</td>\n",
       "    </tr>\n",
       "    <tr>\n",
       "      <th>4</th>\n",
       "      <td>Nkx61</td>\n",
       "      <td>0.272539</td>\n",
       "      <td>0.238095</td>\n",
       "      <td>0.324675</td>\n",
       "      <td>0.142857</td>\n",
       "      <td>0.428571</td>\n",
       "      <td>0.571429</td>\n",
       "      <td>3</td>\n",
       "      <td>1</td>\n",
       "      <td>4</td>\n",
       "      <td>-1.414214</td>\n",
       "      <td>1</td>\n",
       "      <td>0.687500</td>\n",
       "      <td>R2: Peripheral</td>\n",
       "    </tr>\n",
       "    <tr>\n",
       "      <th>5</th>\n",
       "      <td>Nkx62</td>\n",
       "      <td>0.287703</td>\n",
       "      <td>0.000000</td>\n",
       "      <td>0.388889</td>\n",
       "      <td>0.285714</td>\n",
       "      <td>0.142857</td>\n",
       "      <td>0.428571</td>\n",
       "      <td>1</td>\n",
       "      <td>2</td>\n",
       "      <td>3</td>\n",
       "      <td>0.707107</td>\n",
       "      <td>1</td>\n",
       "      <td>0.888889</td>\n",
       "      <td>R2: Peripheral</td>\n",
       "    </tr>\n",
       "    <tr>\n",
       "      <th>6</th>\n",
       "      <td>Olig2</td>\n",
       "      <td>0.390752</td>\n",
       "      <td>0.142857</td>\n",
       "      <td>0.396825</td>\n",
       "      <td>0.285714</td>\n",
       "      <td>0.285714</td>\n",
       "      <td>0.571429</td>\n",
       "      <td>2</td>\n",
       "      <td>2</td>\n",
       "      <td>4</td>\n",
       "      <td>0.294884</td>\n",
       "      <td>0</td>\n",
       "      <td>0.750000</td>\n",
       "      <td>R2: Peripheral</td>\n",
       "    </tr>\n",
       "    <tr>\n",
       "      <th>7</th>\n",
       "      <td>Pax6</td>\n",
       "      <td>0.190087</td>\n",
       "      <td>0.000000</td>\n",
       "      <td>0.274725</td>\n",
       "      <td>0.142857</td>\n",
       "      <td>0.142857</td>\n",
       "      <td>0.285714</td>\n",
       "      <td>1</td>\n",
       "      <td>1</td>\n",
       "      <td>2</td>\n",
       "      <td>-1.179536</td>\n",
       "      <td>0</td>\n",
       "      <td>0.750000</td>\n",
       "      <td>R2: Peripheral</td>\n",
       "    </tr>\n",
       "  </tbody>\n",
       "</table>\n",
       "</div>"
      ],
      "text/plain": [
       "   genes  eigenvector_centrality  betweenness_centrality  \\\n",
       "0   Dbx1                0.287703                0.000000   \n",
       "1   Dbx2                0.530711                0.476190   \n",
       "2   Irx3                0.390752                0.000000   \n",
       "3  Nkx22                0.370155                0.333333   \n",
       "4  Nkx61                0.272539                0.238095   \n",
       "5  Nkx62                0.287703                0.000000   \n",
       "6  Olig2                0.390752                0.142857   \n",
       "7   Pax6                0.190087                0.000000   \n",
       "\n",
       "   closeness_centrality  in_degree_centrality  out_degree_centrality  \\\n",
       "0              0.388889              0.285714               0.142857   \n",
       "1              0.510204              0.428571               0.285714   \n",
       "2              0.396825              0.285714               0.142857   \n",
       "3              0.396825              0.285714               0.571429   \n",
       "4              0.324675              0.142857               0.428571   \n",
       "5              0.388889              0.285714               0.142857   \n",
       "6              0.396825              0.285714               0.285714   \n",
       "7              0.274725              0.142857               0.142857   \n",
       "\n",
       "   all_degree_centrality  degree_out  degree_in  degree_all  z_scores  \\\n",
       "0               0.428571           1          2           3  0.707107   \n",
       "1               0.714286           2          3           4 -0.442326   \n",
       "2               0.428571           1          2           3 -0.442326   \n",
       "3               0.857143           4          2           6  1.769303   \n",
       "4               0.571429           3          1           4 -1.414214   \n",
       "5               0.428571           1          2           3  0.707107   \n",
       "6               0.571429           2          2           4  0.294884   \n",
       "7               0.285714           1          1           2 -1.179536   \n",
       "\n",
       "   membership  participation  classification  \n",
       "0           1       0.888889  R2: Peripheral  \n",
       "1           0       0.920000  R2: Peripheral  \n",
       "2           0       0.888889  R2: Peripheral  \n",
       "3           0       0.555556  R2: Peripheral  \n",
       "4           1       0.687500  R2: Peripheral  \n",
       "5           1       0.888889  R2: Peripheral  \n",
       "6           0       0.750000  R2: Peripheral  \n",
       "7           0       0.750000  R2: Peripheral  "
      ]
     },
     "execution_count": 68,
     "metadata": {},
     "output_type": "execute_result"
    }
   ],
   "source": [
    "scores(ref[[\"Gene1\", \"Gene2\"]])"
   ]
  },
  {
   "cell_type": "code",
   "execution_count": 69,
   "id": "418a2c00-39e0-4486-b945-43e449e72d04",
   "metadata": {},
   "outputs": [
    {
     "data": {
      "image/png": "[encoded data removed]",
      "text/plain": [
       "<Figure size 1080x576 with 6 Axes>"
      ]
     },
     "metadata": {
      "needs_background": "light"
     },
     "output_type": "display_data"
    }
   ],
   "source": [
    "plot_scores(scores(ref[[\"Gene1\", \"Gene2\"]]))"
   ]
  },
  {
   "cell_type": "code",
   "execution_count": 20,
   "id": "8d7f2ff0-4af8-41d0-9f88-b450abb05dbe",
   "metadata": {},
   "outputs": [
    {
     "data": {
      "image/png": "[encoded data removed]",
      "text/plain": [
       "<Figure size 432x288 with 1 Axes>"
      ]
     },
     "metadata": {
      "needs_background": "light"
     },
     "output_type": "display_data"
    }
   ],
   "source": [
    "plot_cartography(scores(ref[[\"Gene1\", \"Gene2\"]]), highlight_genes=['Pax6', 'Dbx2'])"
   ]
  },
  {
   "cell_type": "code",
   "execution_count": 21,
   "id": "7a9247aa-5bfc-4bf4-9343-8eb6d1b64925",
   "metadata": {},
   "outputs": [
    {
     "data": {
      "image/png": "[encoded data removed]",
      "text/plain": [
       "<Figure size 360x360 with 1 Axes>"
      ]
     },
     "metadata": {},
     "output_type": "display_data"
    }
   ],
   "source": [
    "plot_graph(ref, type=\"ref\")"
   ]
  },
  {
   "cell_type": "code",
   "execution_count": null,
   "id": "afbc3ddc-2e91-4adb-b88b-641b142d62c1",
   "metadata": {},
   "outputs": [],
   "source": []
  },
  {
   "cell_type": "code",
   "execution_count": 22,
   "id": "67dc369c",
   "metadata": {},
   "outputs": [],
   "source": [
    "#compute correlations\n",
    "corr = []\n",
    "for row in np.arange(ref.shape[0]):\n",
    "    corr.append(np.corrcoef(expression_matrix[ref['Gene1'][row]], expression_matrix[ref['Gene2'][row]])[0][1])"
   ]
  },
  {
   "cell_type": "code",
   "execution_count": 23,
   "id": "c8e90795",
   "metadata": {},
   "outputs": [
    {
     "data": {
      "text/plain": [
       "[-0.45882286333241634,\n",
       " -0.4954479510127249,\n",
       " 0.6164926227483747,\n",
       " -0.556674971845291,\n",
       " -0.5250424860676203,\n",
       " 0.6164926227483747,\n",
       " -0.49929409251086077,\n",
       " -0.5527293782889778,\n",
       " -0.45491984446380146,\n",
       " 0.3978536835690811,\n",
       " -0.5527293782889778,\n",
       " -0.4588228633324163,\n",
       " 0.3978536835690811,\n",
       " -0.556674971845291,\n",
       " 0.4840094950647097]"
      ]
     },
     "execution_count": 23,
     "metadata": {},
     "output_type": "execute_result"
    }
   ],
   "source": [
    "corr"
   ]
  },
  {
   "cell_type": "code",
   "execution_count": null,
   "id": "f34082f1-6fc3-4b7e-a69c-acb08d476ead",
   "metadata": {},
   "outputs": [],
   "source": []
  },
  {
   "cell_type": "code",
   "execution_count": null,
   "id": "921f6ae0",
   "metadata": {},
   "outputs": [],
   "source": []
  }
 ],
 "metadata": {
  "kernelspec": {
   "display_name": "Python 3 (ipykernel)",
   "language": "python",
   "name": "python3"
  },
  "language_info": {
   "codemirror_mode": {
    "name": "ipython",
    "version": 3
   },
   "file_extension": ".py",
   "mimetype": "text/x-python",
   "name": "python",
   "nbconvert_exporter": "python",
   "pygments_lexer": "ipython3",
   "version": "3.9.5"
  }
 },
 "nbformat": 4,
 "nbformat_minor": 5
}
